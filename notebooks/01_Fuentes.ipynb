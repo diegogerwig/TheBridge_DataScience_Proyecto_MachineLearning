{
 "cells": [
  {
   "cell_type": "markdown",
   "metadata": {},
   "source": [
    "https://www.kaggle.com/datasets/trsaivarun/crash-dataset-2016-2023/data"
   ]
  },
  {
   "cell_type": "code",
   "execution_count": 6,
   "metadata": {},
   "outputs": [],
   "source": [
    "import pandas as pd"
   ]
  },
  {
   "cell_type": "code",
   "execution_count": 7,
   "metadata": {},
   "outputs": [
    {
     "name": "stderr",
     "output_type": "stream",
     "text": [
      "C:\\Users\\Usuario\\AppData\\Local\\Temp\\ipykernel_10840\\398877558.py:2: DtypeWarning: Columns (1) have mixed types. Specify dtype option on import or set low_memory=False.\n",
      "  data = pd.read_csv(file_path)\n"
     ]
    },
    {
     "name": "stdout",
     "output_type": "stream",
     "text": [
      "<class 'pandas.core.frame.DataFrame'>\n",
      "RangeIndex: 172105 entries, 0 to 172104\n",
      "Data columns (total 43 columns):\n",
      " #   Column                          Non-Null Count   Dtype  \n",
      "---  ------                          --------------   -----  \n",
      " 0   Report Number                   172105 non-null  object \n",
      " 1   Local Case Number               172105 non-null  object \n",
      " 2   Agency Name                     172105 non-null  object \n",
      " 3   ACRS Report Type                172105 non-null  object \n",
      " 4   Crash Date/Time                 172105 non-null  object \n",
      " 5   Route Type                      155132 non-null  object \n",
      " 6   Road Name                       156168 non-null  object \n",
      " 7   Cross-Street Type               155099 non-null  object \n",
      " 8   Cross-Street Name               156154 non-null  object \n",
      " 9   Off-Road Description            15935 non-null   object \n",
      " 10  Municipality                    19126 non-null   object \n",
      " 11  Related Non-Motorist            5463 non-null    object \n",
      " 12  Collision Type                  171520 non-null  object \n",
      " 13  Weather                         158751 non-null  object \n",
      " 14  Surface Condition               151987 non-null  object \n",
      " 15  Light                           170660 non-null  object \n",
      " 16  Traffic Control                 146636 non-null  object \n",
      " 17  Driver Substance Abuse          140781 non-null  object \n",
      " 18  Non-Motorist Substance Abuse    4317 non-null    object \n",
      " 19  Person ID                       172105 non-null  object \n",
      " 20  Driver At Fault                 172105 non-null  object \n",
      " 21  Injury Severity                 172105 non-null  object \n",
      " 22  Circumstance                    31359 non-null   object \n",
      " 23  Driver Distracted By            172105 non-null  object \n",
      " 24  Drivers License State           162155 non-null  object \n",
      " 25  Vehicle ID                      172105 non-null  object \n",
      " 26  Vehicle Damage Extent           171789 non-null  object \n",
      " 27  Vehicle First Impact Location   171949 non-null  object \n",
      " 28  Vehicle Second Impact Location  171849 non-null  object \n",
      " 29  Vehicle Body Type               169456 non-null  object \n",
      " 30  Vehicle Movement                171719 non-null  object \n",
      " 31  Vehicle Continuing Dir          169416 non-null  object \n",
      " 32  Vehicle Going Dir               169416 non-null  object \n",
      " 33  Speed Limit                     172105 non-null  int64  \n",
      " 34  Driverless Vehicle              172105 non-null  object \n",
      " 35  Parked Vehicle                  172105 non-null  object \n",
      " 36  Vehicle Year                    172105 non-null  int64  \n",
      " 37  Vehicle Make                    172081 non-null  object \n",
      " 38  Vehicle Model                   172039 non-null  object \n",
      " 39  Equipment Problems              137964 non-null  object \n",
      " 40  Latitude                        172105 non-null  float64\n",
      " 41  Longitude                       172105 non-null  float64\n",
      " 42  Location                        172105 non-null  object \n",
      "dtypes: float64(2), int64(2), object(39)\n",
      "memory usage: 56.5+ MB\n"
     ]
    }
   ],
   "source": [
    "file_path='../data/crash_data.csv'\n",
    "data = pd.read_csv(file_path)\n",
    "data.info()"
   ]
  },
  {
   "cell_type": "code",
   "execution_count": 8,
   "metadata": {},
   "outputs": [
    {
     "name": "stdout",
     "output_type": "stream",
     "text": [
      "First 5 rows of the DataFrame:\n",
      "  Report Number Local Case Number  ...  Longitude                     Location\n",
      "0   MCP3170003V         240000438  ... -77.249310     (39.16500483, -77.24931)\n",
      "1   MCP3254003K         230072050  ... -77.267190  (39.17877577, -77.26718974)\n",
      "2    EJ7887003Q         230074270  ... -77.231769    (39.12357374, -77.231769)\n",
      "3   MCP2674004J         230064598  ... -77.171461  (39.21174219, -77.17146065)\n",
      "4   MCP25280008         230067019  ... -77.289091  (39.22891483, -77.28909117)\n",
      "\n",
      "[5 rows x 43 columns]\n",
      "\n",
      "Statistical description of the DataFrame:\n",
      "         Speed Limit   Vehicle Year       Latitude      Longitude\n",
      "count  172105.000000  172105.000000  172105.000000  172105.000000\n",
      "mean       32.549752    1966.306946      39.083119     -77.112343\n",
      "std        11.059987     340.615468       0.072032       0.098571\n",
      "min         0.000000       0.000000      37.720000     -79.486000\n",
      "25%        25.000000    2006.000000      39.024417     -77.189327\n",
      "50%        35.000000    2011.000000      39.074933     -77.105412\n",
      "75%        40.000000    2015.000000      39.139742     -77.039592\n",
      "max        75.000000    9999.000000      39.990414     -75.527708\n"
     ]
    },
    {
     "name": "stderr",
     "output_type": "stream",
     "text": [
      "c:\\Users\\Usuario\\OneDrive\\code_dgerwig\\BRIDGE_BootCamp_DataScience 2024\\TheBridge_DataScience_Proyecto_MachineLearning\\src\\data_processing.py:8: DtypeWarning: Columns (1) have mixed types. Specify dtype option on import or set low_memory=False.\n",
      "  df = pd.read_csv(file_path)\n"
     ]
    }
   ],
   "source": [
    "# Invoking the Python script from the Jupyter Notebook\n",
    "processing_path='../src/data_processing.py'\n",
    "!python3 {processing_path} {file_path}\n"
   ]
  }
 ],
 "metadata": {
  "kernelspec": {
   "display_name": "Python 3",
   "language": "python",
   "name": "python3"
  },
  "language_info": {
   "codemirror_mode": {
    "name": "ipython",
    "version": 3
   },
   "file_extension": ".py",
   "mimetype": "text/x-python",
   "name": "python",
   "nbconvert_exporter": "python",
   "pygments_lexer": "ipython3",
   "version": "3.11.9"
  }
 },
 "nbformat": 4,
 "nbformat_minor": 2
}
