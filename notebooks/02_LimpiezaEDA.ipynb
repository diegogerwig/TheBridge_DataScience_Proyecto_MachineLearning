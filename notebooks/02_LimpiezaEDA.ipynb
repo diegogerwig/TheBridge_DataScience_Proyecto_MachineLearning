{
 "cells": [
  {
   "cell_type": "markdown",
   "metadata": {},
   "source": [
    "### Limpieza / EDA"
   ]
  },
  {
   "cell_type": "code",
   "execution_count": 1,
   "metadata": {},
   "outputs": [
    {
     "name": "stdout",
     "output_type": "stream",
     "text": [
      "Requirement already satisfied: numpy>=1.23.2 in c:\\users\\diego gerwig\\appdata\\local\\programs\\python\\python311\\lib\\site-packages (from -r ../requirements.txt (line 1)) (1.26.4)\n",
      "Requirement already satisfied: pandas==2.2.2 in c:\\users\\diego gerwig\\appdata\\local\\programs\\python\\python311\\lib\\site-packages (from -r ../requirements.txt (line 2)) (2.2.2)\n",
      "Requirement already satisfied: ydata-profiling==4.8.3 in c:\\users\\diego gerwig\\appdata\\local\\programs\\python\\python311\\lib\\site-packages (from -r ../requirements.txt (line 3)) (4.8.3)\n",
      "Requirement already satisfied: joblib==1.4.2 in c:\\users\\diego gerwig\\appdata\\local\\programs\\python\\python311\\lib\\site-packages (from -r ../requirements.txt (line 4)) (1.4.2)\n",
      "Requirement already satisfied: scikit-learn==1.3.2 in c:\\users\\diego gerwig\\appdata\\local\\programs\\python\\python311\\lib\\site-packages (from -r ../requirements.txt (line 5)) (1.3.2)\n",
      "Requirement already satisfied: python-dateutil>=2.8.2 in c:\\users\\diego gerwig\\appdata\\roaming\\python\\python311\\site-packages (from pandas==2.2.2->-r ../requirements.txt (line 2)) (2.9.0.post0)\n",
      "Requirement already satisfied: pytz>=2020.1 in c:\\users\\diego gerwig\\appdata\\local\\programs\\python\\python311\\lib\\site-packages (from pandas==2.2.2->-r ../requirements.txt (line 2)) (2024.1)\n",
      "Requirement already satisfied: tzdata>=2022.7 in c:\\users\\diego gerwig\\appdata\\local\\programs\\python\\python311\\lib\\site-packages (from pandas==2.2.2->-r ../requirements.txt (line 2)) (2024.1)\n",
      "Requirement already satisfied: scipy<1.14,>=1.4.1 in c:\\users\\diego gerwig\\appdata\\local\\programs\\python\\python311\\lib\\site-packages (from ydata-profiling==4.8.3->-r ../requirements.txt (line 3)) (1.13.1)\n",
      "Requirement already satisfied: matplotlib<3.9,>=3.2 in c:\\users\\diego gerwig\\appdata\\local\\programs\\python\\python311\\lib\\site-packages (from ydata-profiling==4.8.3->-r ../requirements.txt (line 3)) (3.8.4)\n",
      "Requirement already satisfied: pydantic>=2 in c:\\users\\diego gerwig\\appdata\\local\\programs\\python\\python311\\lib\\site-packages (from ydata-profiling==4.8.3->-r ../requirements.txt (line 3)) (2.7.3)\n",
      "Requirement already satisfied: PyYAML<6.1,>=5.0.0 in c:\\users\\diego gerwig\\appdata\\local\\programs\\python\\python311\\lib\\site-packages (from ydata-profiling==4.8.3->-r ../requirements.txt (line 3)) (6.0.1)\n",
      "Requirement already satisfied: jinja2<3.2,>=2.11.1 in c:\\users\\diego gerwig\\appdata\\local\\programs\\python\\python311\\lib\\site-packages (from ydata-profiling==4.8.3->-r ../requirements.txt (line 3)) (3.1.4)\n",
      "Requirement already satisfied: visions<0.7.7,>=0.7.5 in c:\\users\\diego gerwig\\appdata\\local\\programs\\python\\python311\\lib\\site-packages (from visions[type_image_path]<0.7.7,>=0.7.5->ydata-profiling==4.8.3->-r ../requirements.txt (line 3)) (0.7.6)\n",
      "Requirement already satisfied: htmlmin==0.1.12 in c:\\users\\diego gerwig\\appdata\\local\\programs\\python\\python311\\lib\\site-packages (from ydata-profiling==4.8.3->-r ../requirements.txt (line 3)) (0.1.12)\n",
      "Requirement already satisfied: phik<0.13,>=0.11.1 in c:\\users\\diego gerwig\\appdata\\local\\programs\\python\\python311\\lib\\site-packages (from ydata-profiling==4.8.3->-r ../requirements.txt (line 3)) (0.12.4)\n",
      "Requirement already satisfied: requests<3,>=2.24.0 in c:\\users\\diego gerwig\\appdata\\local\\programs\\python\\python311\\lib\\site-packages (from ydata-profiling==4.8.3->-r ../requirements.txt (line 3)) (2.32.2)\n",
      "Requirement already satisfied: tqdm<5,>=4.48.2 in c:\\users\\diego gerwig\\appdata\\local\\programs\\python\\python311\\lib\\site-packages (from ydata-profiling==4.8.3->-r ../requirements.txt (line 3)) (4.66.4)\n",
      "Requirement already satisfied: seaborn<0.14,>=0.10.1 in c:\\users\\diego gerwig\\appdata\\local\\programs\\python\\python311\\lib\\site-packages (from ydata-profiling==4.8.3->-r ../requirements.txt (line 3)) (0.13.2)\n",
      "Requirement already satisfied: multimethod<2,>=1.4 in c:\\users\\diego gerwig\\appdata\\local\\programs\\python\\python311\\lib\\site-packages (from ydata-profiling==4.8.3->-r ../requirements.txt (line 3)) (1.12)\n",
      "Requirement already satisfied: statsmodels<1,>=0.13.2 in c:\\users\\diego gerwig\\appdata\\local\\programs\\python\\python311\\lib\\site-packages (from ydata-profiling==4.8.3->-r ../requirements.txt (line 3)) (0.14.2)\n",
      "Requirement already satisfied: typeguard<5,>=3 in c:\\users\\diego gerwig\\appdata\\local\\programs\\python\\python311\\lib\\site-packages (from ydata-profiling==4.8.3->-r ../requirements.txt (line 3)) (4.3.0)\n",
      "Requirement already satisfied: imagehash==4.3.1 in c:\\users\\diego gerwig\\appdata\\local\\programs\\python\\python311\\lib\\site-packages (from ydata-profiling==4.8.3->-r ../requirements.txt (line 3)) (4.3.1)\n",
      "Requirement already satisfied: wordcloud>=1.9.1 in c:\\users\\diego gerwig\\appdata\\local\\programs\\python\\python311\\lib\\site-packages (from ydata-profiling==4.8.3->-r ../requirements.txt (line 3)) (1.9.3)\n",
      "Requirement already satisfied: dacite>=1.8 in c:\\users\\diego gerwig\\appdata\\local\\programs\\python\\python311\\lib\\site-packages (from ydata-profiling==4.8.3->-r ../requirements.txt (line 3)) (1.8.1)\n",
      "Requirement already satisfied: numba<1,>=0.56.0 in c:\\users\\diego gerwig\\appdata\\local\\programs\\python\\python311\\lib\\site-packages (from ydata-profiling==4.8.3->-r ../requirements.txt (line 3)) (0.60.0)\n",
      "Requirement already satisfied: threadpoolctl>=2.0.0 in c:\\users\\diego gerwig\\appdata\\local\\programs\\python\\python311\\lib\\site-packages (from scikit-learn==1.3.2->-r ../requirements.txt (line 5)) (3.5.0)\n",
      "Requirement already satisfied: PyWavelets in c:\\users\\diego gerwig\\appdata\\local\\programs\\python\\python311\\lib\\site-packages (from imagehash==4.3.1->ydata-profiling==4.8.3->-r ../requirements.txt (line 3)) (1.7.0)\n",
      "Requirement already satisfied: pillow in c:\\users\\diego gerwig\\appdata\\local\\programs\\python\\python311\\lib\\site-packages (from imagehash==4.3.1->ydata-profiling==4.8.3->-r ../requirements.txt (line 3)) (10.3.0)\n",
      "Requirement already satisfied: MarkupSafe>=2.0 in c:\\users\\diego gerwig\\appdata\\local\\programs\\python\\python311\\lib\\site-packages (from jinja2<3.2,>=2.11.1->ydata-profiling==4.8.3->-r ../requirements.txt (line 3)) (2.1.5)\n",
      "Requirement already satisfied: contourpy>=1.0.1 in c:\\users\\diego gerwig\\appdata\\local\\programs\\python\\python311\\lib\\site-packages (from matplotlib<3.9,>=3.2->ydata-profiling==4.8.3->-r ../requirements.txt (line 3)) (1.2.1)\n",
      "Requirement already satisfied: cycler>=0.10 in c:\\users\\diego gerwig\\appdata\\local\\programs\\python\\python311\\lib\\site-packages (from matplotlib<3.9,>=3.2->ydata-profiling==4.8.3->-r ../requirements.txt (line 3)) (0.12.1)\n",
      "Requirement already satisfied: fonttools>=4.22.0 in c:\\users\\diego gerwig\\appdata\\local\\programs\\python\\python311\\lib\\site-packages (from matplotlib<3.9,>=3.2->ydata-profiling==4.8.3->-r ../requirements.txt (line 3)) (4.53.0)\n",
      "Requirement already satisfied: kiwisolver>=1.3.1 in c:\\users\\diego gerwig\\appdata\\local\\programs\\python\\python311\\lib\\site-packages (from matplotlib<3.9,>=3.2->ydata-profiling==4.8.3->-r ../requirements.txt (line 3)) (1.4.5)\n",
      "Requirement already satisfied: packaging>=20.0 in c:\\users\\diego gerwig\\appdata\\roaming\\python\\python311\\site-packages (from matplotlib<3.9,>=3.2->ydata-profiling==4.8.3->-r ../requirements.txt (line 3)) (24.1)\n",
      "Requirement already satisfied: pyparsing>=2.3.1 in c:\\users\\diego gerwig\\appdata\\local\\programs\\python\\python311\\lib\\site-packages (from matplotlib<3.9,>=3.2->ydata-profiling==4.8.3->-r ../requirements.txt (line 3)) (3.1.2)\n",
      "Requirement already satisfied: llvmlite<0.44,>=0.43.0dev0 in c:\\users\\diego gerwig\\appdata\\local\\programs\\python\\python311\\lib\\site-packages (from numba<1,>=0.56.0->ydata-profiling==4.8.3->-r ../requirements.txt (line 3)) (0.43.0)\n",
      "Requirement already satisfied: annotated-types>=0.4.0 in c:\\users\\diego gerwig\\appdata\\local\\programs\\python\\python311\\lib\\site-packages (from pydantic>=2->ydata-profiling==4.8.3->-r ../requirements.txt (line 3)) (0.7.0)\n",
      "Requirement already satisfied: pydantic-core==2.18.4 in c:\\users\\diego gerwig\\appdata\\local\\programs\\python\\python311\\lib\\site-packages (from pydantic>=2->ydata-profiling==4.8.3->-r ../requirements.txt (line 3)) (2.18.4)\n",
      "Requirement already satisfied: typing-extensions>=4.6.1 in c:\\users\\diego gerwig\\appdata\\roaming\\python\\python311\\site-packages (from pydantic>=2->ydata-profiling==4.8.3->-r ../requirements.txt (line 3)) (4.12.2)\n",
      "Requirement already satisfied: six>=1.5 in c:\\users\\diego gerwig\\appdata\\roaming\\python\\python311\\site-packages (from python-dateutil>=2.8.2->pandas==2.2.2->-r ../requirements.txt (line 2)) (1.16.0)\n",
      "Requirement already satisfied: charset-normalizer<4,>=2 in c:\\users\\diego gerwig\\appdata\\local\\programs\\python\\python311\\lib\\site-packages (from requests<3,>=2.24.0->ydata-profiling==4.8.3->-r ../requirements.txt (line 3)) (3.3.2)\n",
      "Requirement already satisfied: idna<4,>=2.5 in c:\\users\\diego gerwig\\appdata\\local\\programs\\python\\python311\\lib\\site-packages (from requests<3,>=2.24.0->ydata-profiling==4.8.3->-r ../requirements.txt (line 3)) (3.7)\n",
      "Requirement already satisfied: urllib3<3,>=1.21.1 in c:\\users\\diego gerwig\\appdata\\local\\programs\\python\\python311\\lib\\site-packages (from requests<3,>=2.24.0->ydata-profiling==4.8.3->-r ../requirements.txt (line 3)) (2.2.1)\n",
      "Requirement already satisfied: certifi>=2017.4.17 in c:\\users\\diego gerwig\\appdata\\local\\programs\\python\\python311\\lib\\site-packages (from requests<3,>=2.24.0->ydata-profiling==4.8.3->-r ../requirements.txt (line 3)) (2024.6.2)\n",
      "Requirement already satisfied: patsy>=0.5.6 in c:\\users\\diego gerwig\\appdata\\local\\programs\\python\\python311\\lib\\site-packages (from statsmodels<1,>=0.13.2->ydata-profiling==4.8.3->-r ../requirements.txt (line 3)) (0.5.6)\n",
      "Requirement already satisfied: colorama in c:\\users\\diego gerwig\\appdata\\roaming\\python\\python311\\site-packages (from tqdm<5,>=4.48.2->ydata-profiling==4.8.3->-r ../requirements.txt (line 3)) (0.4.6)\n",
      "Requirement already satisfied: attrs>=19.3.0 in c:\\users\\diego gerwig\\appdata\\local\\programs\\python\\python311\\lib\\site-packages (from visions<0.7.7,>=0.7.5->visions[type_image_path]<0.7.7,>=0.7.5->ydata-profiling==4.8.3->-r ../requirements.txt (line 3)) (23.2.0)\n",
      "Requirement already satisfied: networkx>=2.4 in c:\\users\\diego gerwig\\appdata\\local\\programs\\python\\python311\\lib\\site-packages (from visions<0.7.7,>=0.7.5->visions[type_image_path]<0.7.7,>=0.7.5->ydata-profiling==4.8.3->-r ../requirements.txt (line 3)) (3.2.1)\n",
      "Note: you may need to restart the kernel to use updated packages.\n"
     ]
    }
   ],
   "source": [
    "pip install -r ../requirements.txt"
   ]
  },
  {
   "cell_type": "code",
   "execution_count": 2,
   "metadata": {},
   "outputs": [
    {
     "name": "stdout",
     "output_type": "stream",
     "text": [
      "Package                                  Version\n",
      "---------------------------------------- -----------\n",
      "aiobotocore                              2.13.0\n",
      "aiohttp                                  3.9.5\n",
      "aiohttp-cors                             0.7.0\n",
      "aioitertools                             0.11.0\n",
      "aiosignal                                1.3.1\n",
      "annotated-types                          0.7.0\n",
      "antlr4-python3-runtime                   4.13.1\n",
      "asteval                                  1.0.1\n",
      "asttokens                                2.4.1\n",
      "attrs                                    23.2.0\n",
      "backoff                                  2.2.1\n",
      "beautifulsoup4                           4.12.3\n",
      "bleach                                   6.1.0\n",
      "botocore                                 1.34.106\n",
      "branca                                   0.7.2\n",
      "cachetools                               5.3.3\n",
      "catboost                                 1.2.5\n",
      "certifi                                  2024.6.2\n",
      "cffi                                     1.16.0\n",
      "charset-normalizer                       3.3.2\n",
      "circuit-knitting-toolbox                 0.7.2\n",
      "click                                    8.1.7\n",
      "cloudpickle                              2.2.1\n",
      "colorama                                 0.4.6\n",
      "colorful                                 0.5.6\n",
      "comm                                     0.2.2\n",
      "contourpy                                1.2.1\n",
      "cryptography                             42.0.8\n",
      "cycler                                   0.12.1\n",
      "dacite                                   1.8.1\n",
      "debugpy                                  1.8.1\n",
      "decorator                                5.1.1\n",
      "defusedxml                               0.7.1\n",
      "Deprecated                               1.2.14\n",
      "dill                                     0.3.8\n",
      "distlib                                  0.3.8\n",
      "executing                                2.0.1\n",
      "fastjsonschema                           2.20.0\n",
      "filelock                                 3.14.0\n",
      "folium                                   0.17.0\n",
      "fonttools                                4.53.0\n",
      "frozenlist                               1.4.1\n",
      "fsspec                                   2024.6.0\n",
      "google-api-core                          2.19.0\n",
      "google-auth                              2.30.0\n",
      "googleapis-common-protos                 1.63.1\n",
      "graphviz                                 0.20.3\n",
      "greenlet                                 3.0.3\n",
      "grpcio                                   1.64.1\n",
      "htmlmin                                  0.1.12\n",
      "ibm-cloud-sdk-core                       3.20.1\n",
      "ibm-platform-services                    0.53.7\n",
      "idna                                     3.7\n",
      "ImageHash                                4.3.1\n",
      "importlib_metadata                       7.1.0\n",
      "ipycytoscape                             1.3.3\n",
      "ipykernel                                6.29.4\n",
      "ipython                                  8.25.0\n",
      "ipywidgets                               8.1.3\n",
      "jedi                                     0.19.1\n",
      "Jinja2                                   3.1.4\n",
      "jmespath                                 1.0.1\n",
      "joblib                                   1.4.2\n",
      "jsonpickle                               3.0.3\n",
      "jsonschema                               4.22.0\n",
      "jsonschema-specifications                2023.12.1\n",
      "jupyter_client                           8.6.2\n",
      "jupyter_core                             5.7.2\n",
      "jupyterlab_pygments                      0.3.0\n",
      "jupyterlab_widgets                       3.0.11\n",
      "kiwisolver                               1.4.5\n",
      "lazypredict                              0.2.12\n",
      "lightgbm                                 4.4.0\n",
      "llvmlite                                 0.43.0\n",
      "lmfit                                    1.3.1\n",
      "MarkupSafe                               2.1.5\n",
      "matplotlib                               3.8.4\n",
      "matplotlib-inline                        0.1.7\n",
      "mistune                                  3.0.2\n",
      "mpmath                                   1.3.0\n",
      "msgpack                                  1.0.8\n",
      "multidict                                6.0.5\n",
      "multimethod                              1.12\n",
      "mysql-connector-python                   8.4.0\n",
      "nbclient                                 0.10.0\n",
      "nbconvert                                7.16.4\n",
      "nbformat                                 5.10.4\n",
      "nest-asyncio                             1.6.0\n",
      "networkx                                 3.2.1\n",
      "numba                                    0.60.0\n",
      "numpy                                    1.26.4\n",
      "opencensus                               0.11.4\n",
      "opencensus-context                       0.1.3\n",
      "openqasm3                                0.5.0\n",
      "opentelemetry-api                        1.25.0\n",
      "opentelemetry-exporter-otlp-proto-common 1.25.0\n",
      "opentelemetry-exporter-otlp-proto-grpc   1.25.0\n",
      "opentelemetry-instrumentation            0.46b0\n",
      "opentelemetry-instrumentation-requests   0.46b0\n",
      "opentelemetry-proto                      1.25.0\n",
      "opentelemetry-sdk                        1.25.0\n",
      "opentelemetry-semantic-conventions       0.46b0\n",
      "opentelemetry-util-http                  0.46b0\n",
      "packaging                                24.1\n",
      "pandas                                   2.2.2\n",
      "pandocfilters                            1.5.1\n",
      "parso                                    0.8.4\n",
      "patsy                                    0.5.6\n",
      "pbr                                      6.0.0\n",
      "phik                                     0.12.4\n",
      "pillow                                   10.3.0\n",
      "pip                                      24.2\n",
      "platformdirs                             4.2.2\n",
      "plotly                                   5.22.0\n",
      "prometheus_client                        0.20.0\n",
      "prompt_toolkit                           3.0.47\n",
      "proto-plus                               1.23.0\n",
      "protobuf                                 4.25.3\n",
      "prototype-zne                            1.3.1\n",
      "psutil                                   5.9.8\n",
      "pure-eval                                0.2.2\n",
      "py-spy                                   0.3.14\n",
      "pyarrow                                  16.1.0\n",
      "pyasn1                                   0.6.0\n",
      "pyasn1_modules                           0.4.0\n",
      "pycparser                                2.22\n",
      "pydantic                                 2.7.3\n",
      "pydantic_core                            2.18.4\n",
      "pydot                                    2.0.0\n",
      "Pygments                                 2.18.0\n",
      "PyJWT                                    2.8.0\n",
      "pylatexenc                               2.10\n",
      "PyMySQL                                  1.1.1\n",
      "pyparsing                                3.1.2\n",
      "pyproj                                   3.6.1\n",
      "pyspnego                                 0.10.2\n",
      "python-dateutil                          2.9.0.post0\n",
      "python-dotenv                            1.0.1\n",
      "pytz                                     2024.1\n",
      "PyWavelets                               1.7.0\n",
      "pywin32                                  306\n",
      "PyYAML                                   6.0.1\n",
      "pyzmq                                    26.0.3\n",
      "qc-grader                                0.19.7\n",
      "qiskit                                   1.1.0\n",
      "qiskit-aer                               0.14.2\n",
      "qiskit-ibm-provider                      0.11.0\n",
      "qiskit-ibm-runtime                       0.23.0\n",
      "qiskit-qasm3-import                      0.4.2\n",
      "qiskit-serverless                        0.12.0\n",
      "qiskit-transpiler-service                0.4.3\n",
      "ray                                      2.20.0\n",
      "referencing                              0.35.1\n",
      "requests                                 2.32.2\n",
      "requests_ntlm                            1.3.0\n",
      "rpds-py                                  0.18.1\n",
      "rsa                                      4.9\n",
      "rustworkx                                0.14.2\n",
      "s3fs                                     2024.6.0\n",
      "scikit-learn                             1.3.2\n",
      "scipy                                    1.13.1\n",
      "seaborn                                  0.13.2\n",
      "setuptools                               65.5.0\n",
      "six                                      1.16.0\n",
      "smart-open                               7.0.4\n",
      "soupsieve                                2.5\n",
      "spectate                                 1.0.1\n",
      "SQLAlchemy                               2.0.31\n",
      "sspilib                                  0.1.0\n",
      "stack-data                               0.6.3\n",
      "statsmodels                              0.14.2\n",
      "stevedore                                5.2.0\n",
      "symengine                                0.11.0\n",
      "sympy                                    1.12.1\n",
      "tenacity                                 8.3.0\n",
      "threadpoolctl                            3.5.0\n",
      "tinycss2                                 1.3.0\n",
      "tornado                                  6.4.1\n",
      "tqdm                                     4.66.4\n",
      "traitlets                                5.14.3\n",
      "typeguard                                4.3.0\n",
      "typing_extensions                        4.12.2\n",
      "tzdata                                   2024.1\n",
      "ucimlrepo                                0.0.7\n",
      "uncertainties                            3.2.2\n",
      "urllib3                                  2.2.1\n",
      "virtualenv                               20.26.2\n",
      "visions                                  0.7.6\n",
      "wcwidth                                  0.2.13\n",
      "webencodings                             0.5.1\n",
      "websocket-client                         1.8.0\n",
      "websockets                               12.0\n",
      "widgetsnbextension                       4.0.11\n",
      "wordcloud                                1.9.3\n",
      "wrapt                                    1.16.0\n",
      "xgboost                                  2.1.0\n",
      "xyzservices                              2024.6.0\n",
      "yarl                                     1.9.4\n",
      "ydata-profiling                          4.8.3\n",
      "zipp                                     3.19.2\n",
      "Note: you may need to restart the kernel to use updated packages.\n"
     ]
    }
   ],
   "source": [
    "pip list"
   ]
  },
  {
   "cell_type": "code",
   "execution_count": 3,
   "metadata": {},
   "outputs": [],
   "source": [
    "# pip uninstall numpy "
   ]
  },
  {
   "cell_type": "code",
   "execution_count": 4,
   "metadata": {},
   "outputs": [],
   "source": [
    "# pip install numpy scipy statsmodels\n"
   ]
  },
  {
   "cell_type": "code",
   "execution_count": 5,
   "metadata": {},
   "outputs": [],
   "source": [
    "pip install --force-reinstall ydata-profiling\n"
   ]
  },
  {
   "cell_type": "markdown",
   "metadata": {},
   "source": [
    "#### 🔎 Exploratory Data Analysis"
   ]
  },
  {
   "cell_type": "code",
   "execution_count": null,
   "metadata": {},
   "outputs": [],
   "source": [
    "import pandas as pd\n",
    "import os\n",
    "from ydata_profiling import ProfileReport\n",
    "from sklearn.preprocessing import LabelEncoder\n"
   ]
  },
  {
   "cell_type": "code",
   "execution_count": null,
   "metadata": {},
   "outputs": [],
   "source": [
    "raw_data_path='../data/raw/road_traffic_accidents_dataset.csv'"
   ]
  },
  {
   "cell_type": "code",
   "execution_count": null,
   "metadata": {},
   "outputs": [],
   "source": [
    "raw_data = pd.read_csv(raw_data_path)"
   ]
  },
  {
   "cell_type": "code",
   "execution_count": null,
   "metadata": {},
   "outputs": [],
   "source": [
    "profile = ProfileReport(raw_data)"
   ]
  },
  {
   "cell_type": "code",
   "execution_count": null,
   "metadata": {},
   "outputs": [],
   "source": [
    "# profile"
   ]
  },
  {
   "cell_type": "markdown",
   "metadata": {},
   "source": [
    "#### 🧹 Data Cleaning"
   ]
  },
  {
   "cell_type": "markdown",
   "metadata": {},
   "source": [
    "1. **Remove Duplicates**\n",
    "   - **Objective**: Eliminate duplicate rows in the dataset to avoid redundancy.\n",
    "   - **Action**: Identify and remove duplicate rows based on all or selected columns.\n",
    "   - **Example**: `df.drop_duplicates()`.\n",
    "\n",
    "2. **Handle Missing Values**\n",
    "   - **Objective**: Address missing or incomplete data to ensure data quality.\n",
    "   - **Actions**:\n",
    "     - **Imputation**: Replace missing values with a statistical measure such as mean, median, or mode.\n",
    "     - **Removal**: Remove rows or columns with missing values if they are insignificant.\n",
    "     - **Flagging**: Create a separate flag column to indicate missing values.\n",
    "   - **Example**: `df.fillna()` for imputation or `df.dropna()` to remove missing values.\n",
    "\n",
    "3. **Correct Data Types**\n",
    "   - **Objective**: Ensure that each column in the dataset has the correct data type.\n",
    "   - **Actions**:\n",
    "     - **Conversion**: Convert columns to appropriate data types (e.g., integer, float, datetime).\n",
    "     - **Verification**: Check and verify data types after conversion.\n",
    "   - **Example**: Using pandas, you can use `df.astype()` to change data types.\n",
    "\n",
    "4. **Remove or Address Outliers**\n",
    "   - **Objective**: Identify and handle data points that deviate significantly from other observations.\n",
    "   - **Actions**:\n",
    "     - **Detection**: Use statistical methods or visualization to identify outliers.\n",
    "     - **Handling**: Decide whether to remove outliers, adjust their values, or analyze their impact.\n",
    "   - **Example**: You can use methods like Z-scores or IQR to detect outliers."
   ]
  },
  {
   "cell_type": "code",
   "execution_count": null,
   "metadata": {},
   "outputs": [],
   "source": [
    "# processing_path='../src/data_processing.py'\n",
    "# !python3 {processing_path} {raw_data_path}\n"
   ]
  },
  {
   "cell_type": "code",
   "execution_count": null,
   "metadata": {},
   "outputs": [],
   "source": [
    "temp_data=raw_data.dropna()"
   ]
  },
  {
   "cell_type": "code",
   "execution_count": null,
   "metadata": {},
   "outputs": [],
   "source": [
    "temp_data=temp_data.rename(columns=lambda x: x.lower())"
   ]
  },
  {
   "cell_type": "code",
   "execution_count": null,
   "metadata": {},
   "outputs": [],
   "source": [
    "drop_columns=[]\n",
    "# drop_columns=['Time', 'Day_of_week']\n",
    "temp_data=temp_data.drop(columns=drop_columns)"
   ]
  },
  {
   "cell_type": "code",
   "execution_count": null,
   "metadata": {},
   "outputs": [],
   "source": [
    "temp_data['time']=pd.to_datetime(temp_data['time'])"
   ]
  },
  {
   "cell_type": "code",
   "execution_count": null,
   "metadata": {},
   "outputs": [],
   "source": [
    "column_encoder = 'accident_severity'\n",
    "label_encoder = LabelEncoder()\n",
    "temp_data[column_encoder] = label_encoder.fit_transform(temp_data[column_encoder])"
   ]
  },
  {
   "cell_type": "code",
   "execution_count": null,
   "metadata": {},
   "outputs": [],
   "source": [
    "temp_data = pd.get_dummies(temp_data, columns=[col for col in temp_data.columns if col != column_encoder], dtype=int)\n",
    "temp_data=pd.get_dummies(temp_data, dtype=int)"
   ]
  },
  {
   "cell_type": "code",
   "execution_count": null,
   "metadata": {},
   "outputs": [],
   "source": [
    "temp_data=temp_data.rename(columns=lambda x: x.lower())"
   ]
  },
  {
   "cell_type": "code",
   "execution_count": null,
   "metadata": {},
   "outputs": [],
   "source": [
    "# Construct the output file path\n",
    "base_name = os.path.basename(raw_data_path)\n",
    "name, ext = os.path.splitext(base_name)\n",
    "output_file_name = f\"{name}_proc{ext}\"\n",
    "\n",
    "# Define the processed directory path\n",
    "processed_dir = '../data/processed'\n",
    "os.makedirs(processed_dir, exist_ok=True)\n",
    "output_path = os.path.join(processed_dir, output_file_name)\n",
    "\n",
    "temp_data.to_csv(output_path, index=False)\n",
    "print(f\"\\n✅ The processed DataFrame has been saved to {output_path}\")"
   ]
  },
  {
   "cell_type": "code",
   "execution_count": null,
   "metadata": {},
   "outputs": [],
   "source": [
    "proc_data_path='../data/processed/road_traffic_accidents_dataset_proc.csv'\n",
    "\n",
    "proc_data=pd.read_csv(proc_data_path)"
   ]
  },
  {
   "cell_type": "code",
   "execution_count": null,
   "metadata": {},
   "outputs": [],
   "source": [
    "proc_data.head()"
   ]
  },
  {
   "cell_type": "code",
   "execution_count": null,
   "metadata": {},
   "outputs": [],
   "source": [
    "proc_data.info()"
   ]
  },
  {
   "cell_type": "code",
   "execution_count": null,
   "metadata": {},
   "outputs": [],
   "source": [
    "proc_data.describe(include='all')"
   ]
  },
  {
   "cell_type": "code",
   "execution_count": null,
   "metadata": {},
   "outputs": [],
   "source": [
    "proc_data.isnull().sum()\n"
   ]
  },
  {
   "cell_type": "code",
   "execution_count": null,
   "metadata": {},
   "outputs": [],
   "source": [
    "\n",
    "proc_data.duplicated().sum()\n"
   ]
  },
  {
   "cell_type": "code",
   "execution_count": null,
   "metadata": {},
   "outputs": [],
   "source": [
    "injuries = proc_data[['accident_severity']].value_counts()\n",
    "\n",
    "print(injuries)"
   ]
  }
 ],
 "metadata": {
  "kernelspec": {
   "display_name": "Python 3",
   "language": "python",
   "name": "python3"
  },
  "language_info": {
   "codemirror_mode": {
    "name": "ipython",
    "version": 3
   },
   "file_extension": ".py",
   "mimetype": "text/x-python",
   "name": "python",
   "nbconvert_exporter": "python",
   "pygments_lexer": "ipython3",
   "version": "3.11.0"
  }
 },
 "nbformat": 4,
 "nbformat_minor": 2
}
