{
 "cells": [
  {
   "cell_type": "markdown",
   "metadata": {},
   "source": [
    "### Entranamiento / Evaluación"
   ]
  },
  {
   "cell_type": "markdown",
   "metadata": {},
   "source": [
    "#### 💪 Training"
   ]
  },
  {
   "cell_type": "code",
   "execution_count": 1,
   "metadata": {},
   "outputs": [
    {
     "name": "stdout",
     "output_type": "stream",
     "text": [
      "Requirement already satisfied: pip in c:\\users\\usuario\\appdata\\local\\packages\\pythonsoftwarefoundation.python.3.11_qbz5n2kfra8p0\\localcache\\local-packages\\python311\\site-packages (24.1.2)\n",
      "Collecting pip\n",
      "  Downloading pip-24.2-py3-none-any.whl.metadata (3.6 kB)\n",
      "Downloading pip-24.2-py3-none-any.whl (1.8 MB)\n",
      "   ---------------------------------------- 0.0/1.8 MB ? eta -:--:--\n",
      "   -------- ------------------------------- 0.4/1.8 MB 8.1 MB/s eta 0:00:01\n",
      "   --------------- ------------------------ 0.7/1.8 MB 8.8 MB/s eta 0:00:01\n",
      "   ------------------------------ --------- 1.4/1.8 MB 10.8 MB/s eta 0:00:01\n",
      "   ---------------------------------- ----- 1.6/1.8 MB 9.0 MB/s eta 0:00:01\n",
      "   ---------------------------------------- 1.8/1.8 MB 9.6 MB/s eta 0:00:00\n",
      "Installing collected packages: pip\n",
      "  Attempting uninstall: pip\n",
      "    Found existing installation: pip 24.1.2\n",
      "    Uninstalling pip-24.1.2:\n",
      "      Successfully uninstalled pip-24.1.2\n",
      "Successfully installed pip-24.2\n",
      "Found existing installation: numpy 1.23.5\n",
      "Uninstalling numpy-1.23.5:\n",
      "  Successfully uninstalled numpy-1.23.5\n",
      "Found existing installation: scipy 1.13.0\n",
      "Uninstalling scipy-1.13.0:\n",
      "  Successfully uninstalled scipy-1.13.0\n",
      "Found existing installation: scikit-learn 1.5.0\n",
      "Uninstalling scikit-learn-1.5.0:\n",
      "  Successfully uninstalled scikit-learn-1.5.0\n",
      "Collecting numpy\n",
      "  Downloading numpy-2.0.1-cp311-cp311-win_amd64.whl.metadata (60 kB)\n",
      "Collecting scipy\n",
      "  Downloading scipy-1.14.0-cp311-cp311-win_amd64.whl.metadata (60 kB)\n",
      "Requirement already satisfied: pandas in c:\\users\\usuario\\appdata\\local\\packages\\pythonsoftwarefoundation.python.3.11_qbz5n2kfra8p0\\localcache\\local-packages\\python311\\site-packages (2.2.2)\n",
      "Collecting scikit-learn\n",
      "  Downloading scikit_learn-1.5.1-cp311-cp311-win_amd64.whl.metadata (12 kB)\n",
      "Requirement already satisfied: python-dateutil>=2.8.2 in c:\\users\\usuario\\appdata\\local\\packages\\pythonsoftwarefoundation.python.3.11_qbz5n2kfra8p0\\localcache\\local-packages\\python311\\site-packages (from pandas) (2.9.0.post0)\n",
      "Requirement already satisfied: pytz>=2020.1 in c:\\users\\usuario\\appdata\\local\\packages\\pythonsoftwarefoundation.python.3.11_qbz5n2kfra8p0\\localcache\\local-packages\\python311\\site-packages (from pandas) (2024.1)\n",
      "Requirement already satisfied: tzdata>=2022.7 in c:\\users\\usuario\\appdata\\local\\packages\\pythonsoftwarefoundation.python.3.11_qbz5n2kfra8p0\\localcache\\local-packages\\python311\\site-packages (from pandas) (2024.1)\n",
      "Requirement already satisfied: joblib>=1.2.0 in c:\\users\\usuario\\appdata\\local\\packages\\pythonsoftwarefoundation.python.3.11_qbz5n2kfra8p0\\localcache\\local-packages\\python311\\site-packages (from scikit-learn) (1.4.2)\n",
      "Requirement already satisfied: threadpoolctl>=3.1.0 in c:\\users\\usuario\\appdata\\local\\packages\\pythonsoftwarefoundation.python.3.11_qbz5n2kfra8p0\\localcache\\local-packages\\python311\\site-packages (from scikit-learn) (3.5.0)\n",
      "Requirement already satisfied: six>=1.5 in c:\\users\\usuario\\appdata\\local\\packages\\pythonsoftwarefoundation.python.3.11_qbz5n2kfra8p0\\localcache\\local-packages\\python311\\site-packages (from python-dateutil>=2.8.2->pandas) (1.16.0)\n",
      "Downloading numpy-2.0.1-cp311-cp311-win_amd64.whl (16.6 MB)\n",
      "   ---------------------------------------- 0.0/16.6 MB ? eta -:--:--\n",
      "   ----- ---------------------------------- 2.1/16.6 MB 10.7 MB/s eta 0:00:02\n",
      "   ---------- ----------------------------- 4.5/16.6 MB 11.2 MB/s eta 0:00:02\n",
      "   ---------------- ----------------------- 6.8/16.6 MB 11.3 MB/s eta 0:00:01\n",
      "   ---------------------- ----------------- 9.4/16.6 MB 11.5 MB/s eta 0:00:01\n",
      "   ---------------------------- ----------- 11.8/16.6 MB 11.5 MB/s eta 0:00:01\n",
      "   ---------------------------------- ----- 14.2/16.6 MB 11.5 MB/s eta 0:00:01\n",
      "   ---------------------------------------  16.5/16.6 MB 11.7 MB/s eta 0:00:01\n",
      "   ---------------------------------------- 16.6/16.6 MB 11.3 MB/s eta 0:00:00\n",
      "Downloading scipy-1.14.0-cp311-cp311-win_amd64.whl (44.7 MB)\n",
      "   ---------------------------------------- 0.0/44.7 MB ? eta -:--:--\n",
      "   -- ------------------------------------- 2.4/44.7 MB 13.4 MB/s eta 0:00:04\n",
      "   ---- ----------------------------------- 4.7/44.7 MB 12.4 MB/s eta 0:00:04\n",
      "   ------ --------------------------------- 7.3/44.7 MB 11.9 MB/s eta 0:00:04\n",
      "   -------- ------------------------------- 10.0/44.7 MB 11.9 MB/s eta 0:00:03\n",
      "   ---------- ----------------------------- 12.1/44.7 MB 11.6 MB/s eta 0:00:03\n",
      "   ------------- -------------------------- 14.7/44.7 MB 11.7 MB/s eta 0:00:03\n",
      "   --------------- ------------------------ 17.0/44.7 MB 11.7 MB/s eta 0:00:03\n",
      "   ----------------- ---------------------- 19.4/44.7 MB 11.7 MB/s eta 0:00:03\n",
      "   ------------------- -------------------- 21.8/44.7 MB 11.7 MB/s eta 0:00:02\n",
      "   --------------------- ------------------ 24.1/44.7 MB 11.7 MB/s eta 0:00:02\n",
      "   ----------------------- ---------------- 26.7/44.7 MB 11.7 MB/s eta 0:00:02\n",
      "   -------------------------- ------------- 29.4/44.7 MB 11.7 MB/s eta 0:00:02\n",
      "   ---------------------------- ----------- 31.7/44.7 MB 11.7 MB/s eta 0:00:02\n",
      "   ------------------------------ --------- 34.1/44.7 MB 11.7 MB/s eta 0:00:01\n",
      "   -------------------------------- ------- 36.4/44.7 MB 11.7 MB/s eta 0:00:01\n",
      "   ---------------------------------- ----- 38.8/44.7 MB 11.7 MB/s eta 0:00:01\n",
      "   ------------------------------------- -- 41.4/44.7 MB 11.8 MB/s eta 0:00:01\n",
      "   ---------------------------------------  43.8/44.7 MB 11.8 MB/s eta 0:00:01\n",
      "   ---------------------------------------- 44.7/44.7 MB 11.6 MB/s eta 0:00:00\n",
      "Downloading scikit_learn-1.5.1-cp311-cp311-win_amd64.whl (11.0 MB)\n",
      "   ---------------------------------------- 0.0/11.0 MB ? eta -:--:--\n",
      "   -------- ------------------------------- 2.4/11.0 MB 11.2 MB/s eta 0:00:01\n",
      "   ----------------- ---------------------- 4.7/11.0 MB 11.4 MB/s eta 0:00:01\n",
      "   ------------------------- -------------- 7.1/11.0 MB 11.8 MB/s eta 0:00:01\n",
      "   ----------------------------------- ---- 9.7/11.0 MB 11.6 MB/s eta 0:00:01\n",
      "   ---------------------------------------- 11.0/11.0 MB 11.4 MB/s eta 0:00:00\n",
      "Installing collected packages: numpy, scipy, scikit-learn\n",
      "Successfully installed numpy-2.0.1 scikit-learn-1.5.1 scipy-1.14.0\n"
     ]
    },
    {
     "name": "stderr",
     "output_type": "stream",
     "text": [
      "ERROR: pip's dependency resolver does not currently take into account all the packages that are installed. This behaviour is the source of the following dependency conflicts.\n",
      "numba 0.59.1 requires numpy<1.27,>=1.22, but you have numpy 2.0.1 which is incompatible.\n",
      "rustworkx 0.14.2 requires numpy<2,>=1.16.0, but you have numpy 2.0.1 which is incompatible.\n",
      "tensorflow-intel 2.17.0 requires numpy<2.0.0,>=1.23.5; python_version <= \"3.11\", but you have numpy 2.0.1 which is incompatible.\n",
      "ydata-profiling 4.8.3 requires numpy<2,>=1.16.0, but you have numpy 2.0.1 which is incompatible.\n",
      "ydata-profiling 4.8.3 requires scipy<1.14,>=1.4.1, but you have scipy 1.14.0 which is incompatible.\n"
     ]
    },
    {
     "name": "stdout",
     "output_type": "stream",
     "text": [
      "Requirement already satisfied: pip in c:\\users\\usuario\\appdata\\local\\packages\\pythonsoftwarefoundation.python.3.11_qbz5n2kfra8p0\\localcache\\local-packages\\python311\\site-packages (24.2)\n"
     ]
    }
   ],
   "source": [
    "!pip install --upgrade pip\n",
    "!pip uninstall numpy scipy scikit-learn -y\n",
    "!pip install numpy scipy pandas scikit-learn\n",
    "!pip install --upgrade pip\n"
   ]
  },
  {
   "cell_type": "code",
   "execution_count": 2,
   "metadata": {},
   "outputs": [],
   "source": [
    "import pandas as pd\n",
    "from sklearn.model_selection import train_test_split\n"
   ]
  },
  {
   "cell_type": "code",
   "execution_count": 3,
   "metadata": {},
   "outputs": [],
   "source": [
    "proc_data_path='../data/processed/road_traffic_accidents_dataset_proc.csv'\n",
    "train_data = pd.read_csv(proc_data_path)\n"
   ]
  },
  {
   "cell_type": "code",
   "execution_count": 4,
   "metadata": {},
   "outputs": [
    {
     "name": "stdout",
     "output_type": "stream",
     "text": [
      "Model accuracy score with 10 decision-trees : 0.8754\n",
      "              precision    recall  f1-score   support\n",
      "\n",
      "           0       0.00      0.00      0.00         8\n",
      "           1       1.00      0.04      0.09        67\n",
      "           2       0.87      1.00      0.93       503\n",
      "\n",
      "    accuracy                           0.88       578\n",
      "   macro avg       0.62      0.35      0.34       578\n",
      "weighted avg       0.88      0.88      0.82       578\n",
      "\n"
     ]
    },
    {
     "name": "stderr",
     "output_type": "stream",
     "text": [
      "C:\\Users\\Usuario\\AppData\\Local\\Packages\\PythonSoftwareFoundation.Python.3.11_qbz5n2kfra8p0\\LocalCache\\local-packages\\Python311\\site-packages\\sklearn\\metrics\\_classification.py:1531: UndefinedMetricWarning: Precision is ill-defined and being set to 0.0 in labels with no predicted samples. Use `zero_division` parameter to control this behavior.\n",
      "  _warn_prf(average, modifier, f\"{metric.capitalize()} is\", len(result))\n",
      "C:\\Users\\Usuario\\AppData\\Local\\Packages\\PythonSoftwareFoundation.Python.3.11_qbz5n2kfra8p0\\LocalCache\\local-packages\\Python311\\site-packages\\sklearn\\metrics\\_classification.py:1531: UndefinedMetricWarning: Precision is ill-defined and being set to 0.0 in labels with no predicted samples. Use `zero_division` parameter to control this behavior.\n",
      "  _warn_prf(average, modifier, f\"{metric.capitalize()} is\", len(result))\n",
      "C:\\Users\\Usuario\\AppData\\Local\\Packages\\PythonSoftwareFoundation.Python.3.11_qbz5n2kfra8p0\\LocalCache\\local-packages\\Python311\\site-packages\\sklearn\\metrics\\_classification.py:1531: UndefinedMetricWarning: Precision is ill-defined and being set to 0.0 in labels with no predicted samples. Use `zero_division` parameter to control this behavior.\n",
      "  _warn_prf(average, modifier, f\"{metric.capitalize()} is\", len(result))\n"
     ]
    },
    {
     "name": "stdout",
     "output_type": "stream",
     "text": [
      "Cross-validation scores:[0.85640138 0.85294118 0.85294118 0.85294118 0.85961872]\n",
      "Average cross-validation score: 0.8549687261998284\n",
      "Model accuracy score with 10 decision-trees : 0.8754\n",
      "Classification report : \n",
      "              precision    recall  f1-score   support\n",
      "\n",
      "           0       0.00      0.00      0.00         8\n",
      "           1       1.00      0.04      0.09        67\n",
      "           2       0.87      1.00      0.93       503\n",
      "\n",
      "    accuracy                           0.88       578\n",
      "   macro avg       0.62      0.35      0.34       578\n",
      "weighted avg       0.88      0.88      0.82       578\n",
      "\n",
      "Cross-validation scores :\n"
     ]
    },
    {
     "name": "stderr",
     "output_type": "stream",
     "text": [
      "C:\\Users\\Usuario\\AppData\\Local\\Packages\\PythonSoftwareFoundation.Python.3.11_qbz5n2kfra8p0\\LocalCache\\local-packages\\Python311\\site-packages\\sklearn\\metrics\\_classification.py:1531: UndefinedMetricWarning: Precision is ill-defined and being set to 0.0 in labels with no predicted samples. Use `zero_division` parameter to control this behavior.\n",
      "  _warn_prf(average, modifier, f\"{metric.capitalize()} is\", len(result))\n",
      "C:\\Users\\Usuario\\AppData\\Local\\Packages\\PythonSoftwareFoundation.Python.3.11_qbz5n2kfra8p0\\LocalCache\\local-packages\\Python311\\site-packages\\sklearn\\metrics\\_classification.py:1531: UndefinedMetricWarning: Precision is ill-defined and being set to 0.0 in labels with no predicted samples. Use `zero_division` parameter to control this behavior.\n",
      "  _warn_prf(average, modifier, f\"{metric.capitalize()} is\", len(result))\n",
      "C:\\Users\\Usuario\\AppData\\Local\\Packages\\PythonSoftwareFoundation.Python.3.11_qbz5n2kfra8p0\\LocalCache\\local-packages\\Python311\\site-packages\\sklearn\\metrics\\_classification.py:1531: UndefinedMetricWarning: Precision is ill-defined and being set to 0.0 in labels with no predicted samples. Use `zero_division` parameter to control this behavior.\n",
      "  _warn_prf(average, modifier, f\"{metric.capitalize()} is\", len(result))\n"
     ]
    },
    {
     "name": "stdout",
     "output_type": "stream",
     "text": [
      "[0.85640138 0.85294118 0.85294118 0.85294118 0.85961872]\n",
      "Average cross-validation score : 0.8549687261998284\n"
     ]
    }
   ],
   "source": [
    "X = train_data.drop('accident_severity', axis=1)\n",
    "y = train_data['accident_severity']\n",
    "\n",
    "\n",
    "\n",
    "\n",
    "X_train, X_test, y_train, y_test = train_test_split(X, y, test_size=0.2, random_state=42)\n",
    "\n",
    "from sklearn.ensemble import RandomForestClassifier\n",
    "\n",
    "rf = RandomForestClassifier(n_estimators=100, random_state=42)\n",
    "\n",
    "rf.fit(X_train, y_train)\n",
    "\n",
    "y_pred = rf.predict(X_test)\n",
    "\n",
    "from sklearn.metrics import accuracy_score\n",
    "\n",
    "print('Model accuracy score with 10 decision-trees : {0:0.4f}'. format(accuracy_score(y_test, y_pred)))\n",
    "\n",
    "from sklearn.metrics import classification_report\n",
    "\n",
    "print(classification_report(y_test, y_pred))\n",
    "\n",
    "from sklearn.model_selection import cross_val_score\n",
    "\n",
    "scores = cross_val_score(rf, X, y, cv=5, scoring='accuracy')\n",
    "\n",
    "print('Cross-validation scores:{}'.format(scores))\n",
    "\n",
    "print('Average cross-validation score: {}'.format(scores.mean()))\n",
    "\n",
    "import joblib\n",
    "\n",
    "# Save the model as a pickle file\n",
    "filename = '../models/rf_model.pkl'\n",
    "joblib.dump(rf, filename)\n",
    "\n",
    "# Load the model from the file\n",
    "rf_model = joblib.load(filename)\n",
    "\n",
    "# Use the loaded model to make predictions\n",
    "y_pred = rf_model.predict(X_test)\n",
    "\n",
    "print('Model accuracy score with 10 decision-trees : {0:0.4f}'. format(accuracy_score(y_test, y_pred)))\n",
    "\n",
    "print('Classification report : ')\n",
    "\n",
    "print(classification_report(y_test, y_pred))\n",
    "\n",
    "print('Cross-validation scores :')\n",
    "\n",
    "scores = cross_val_score(rf_model, X, y, cv=5, scoring='accuracy')\n",
    "\n",
    "print(scores)\n",
    "\n",
    "print('Average cross-validation score : {}'.format(scores.mean()))\n",
    "\n"
   ]
  },
  {
   "cell_type": "markdown",
   "metadata": {},
   "source": [
    "#### 🎯 Predict"
   ]
  }
 ],
 "metadata": {
  "kernelspec": {
   "display_name": "Python 3",
   "language": "python",
   "name": "python3"
  },
  "language_info": {
   "codemirror_mode": {
    "name": "ipython",
    "version": 3
   },
   "file_extension": ".py",
   "mimetype": "text/x-python",
   "name": "python",
   "nbconvert_exporter": "python",
   "pygments_lexer": "ipython3",
   "version": "3.11.9"
  }
 },
 "nbformat": 4,
 "nbformat_minor": 2
}
