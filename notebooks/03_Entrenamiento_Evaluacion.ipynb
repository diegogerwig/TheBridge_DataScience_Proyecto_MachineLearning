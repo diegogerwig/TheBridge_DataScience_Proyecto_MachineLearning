{
 "cells": [
  {
   "cell_type": "markdown",
   "metadata": {},
   "source": [
    "### Entranamiento / Evaluación"
   ]
  },
  {
   "cell_type": "code",
   "execution_count": 384,
   "metadata": {},
   "outputs": [
    {
     "name": "stdout",
     "output_type": "stream",
     "text": [
      "Defaulting to user installation because normal site-packages is not writeable\n",
      "Looking in indexes: https://pypi.python.org/simple\n",
      "Requirement already satisfied: numpy>=1.23.2 in /home/dgerwig-/.local/lib/python3.10/site-packages (from -r ../requirements.txt (line 1)) (1.24.3)\n",
      "Requirement already satisfied: pandas==2.2.2 in /home/dgerwig-/.local/lib/python3.10/site-packages (from -r ../requirements.txt (line 2)) (2.2.2)\n",
      "Requirement already satisfied: ydata-profiling==4.8.3 in /home/dgerwig-/.local/lib/python3.10/site-packages (from -r ../requirements.txt (line 3)) (4.8.3)\n",
      "Requirement already satisfied: scikit-learn in /home/dgerwig-/.local/lib/python3.10/site-packages (from -r ../requirements.txt (line 4)) (1.5.1)\n",
      "Requirement already satisfied: matplotlib in /home/dgerwig-/.local/lib/python3.10/site-packages (from -r ../requirements.txt (line 5)) (3.8.4)\n",
      "Requirement already satisfied: seaborn in /home/dgerwig-/.local/lib/python3.10/site-packages (from -r ../requirements.txt (line 6)) (0.13.2)\n",
      "Requirement already satisfied: ipywidgets in /home/dgerwig-/.local/lib/python3.10/site-packages (from -r ../requirements.txt (line 7)) (8.1.3)\n",
      "Requirement already satisfied: python-dateutil>=2.8.2 in /home/dgerwig-/.local/lib/python3.10/site-packages (from pandas==2.2.2->-r ../requirements.txt (line 2)) (2.9.0.post0)\n",
      "Requirement already satisfied: pytz>=2020.1 in /usr/lib/python3/dist-packages (from pandas==2.2.2->-r ../requirements.txt (line 2)) (2022.1)\n",
      "Requirement already satisfied: tzdata>=2022.7 in /home/dgerwig-/.local/lib/python3.10/site-packages (from pandas==2.2.2->-r ../requirements.txt (line 2)) (2024.1)\n",
      "Requirement already satisfied: PyYAML<6.1,>=5.0.0 in /usr/lib/python3/dist-packages (from ydata-profiling==4.8.3->-r ../requirements.txt (line 3)) (5.4.1)\n",
      "Requirement already satisfied: multimethod<2,>=1.4 in /home/dgerwig-/.local/lib/python3.10/site-packages (from ydata-profiling==4.8.3->-r ../requirements.txt (line 3)) (1.12)\n",
      "Requirement already satisfied: wordcloud>=1.9.1 in /home/dgerwig-/.local/lib/python3.10/site-packages (from ydata-profiling==4.8.3->-r ../requirements.txt (line 3)) (1.9.3)\n",
      "Requirement already satisfied: tqdm<5,>=4.48.2 in /usr/lib/python3/dist-packages (from ydata-profiling==4.8.3->-r ../requirements.txt (line 3)) (4.57.0)\n",
      "Requirement already satisfied: imagehash==4.3.1 in /home/dgerwig-/.local/lib/python3.10/site-packages (from ydata-profiling==4.8.3->-r ../requirements.txt (line 3)) (4.3.1)\n",
      "Requirement already satisfied: statsmodels<1,>=0.13.2 in /home/dgerwig-/.local/lib/python3.10/site-packages (from ydata-profiling==4.8.3->-r ../requirements.txt (line 3)) (0.14.2)\n",
      "Requirement already satisfied: phik<0.13,>=0.11.1 in /home/dgerwig-/.local/lib/python3.10/site-packages (from ydata-profiling==4.8.3->-r ../requirements.txt (line 3)) (0.12.4)\n",
      "Requirement already satisfied: pydantic>=2 in /home/dgerwig-/.local/lib/python3.10/site-packages (from ydata-profiling==4.8.3->-r ../requirements.txt (line 3)) (2.7.3)\n",
      "Requirement already satisfied: jinja2<3.2,>=2.11.1 in /usr/lib/python3/dist-packages (from ydata-profiling==4.8.3->-r ../requirements.txt (line 3)) (3.0.3)\n",
      "Requirement already satisfied: numba<1,>=0.56.0 in /home/dgerwig-/.local/lib/python3.10/site-packages (from ydata-profiling==4.8.3->-r ../requirements.txt (line 3)) (0.60.0)\n",
      "Requirement already satisfied: typeguard<5,>=3 in /home/dgerwig-/.local/lib/python3.10/site-packages (from ydata-profiling==4.8.3->-r ../requirements.txt (line 3)) (4.3.0)\n",
      "Requirement already satisfied: scipy<1.14,>=1.4.1 in /usr/lib/python3/dist-packages (from ydata-profiling==4.8.3->-r ../requirements.txt (line 3)) (1.8.0)\n",
      "Requirement already satisfied: htmlmin==0.1.12 in /home/dgerwig-/.local/lib/python3.10/site-packages (from ydata-profiling==4.8.3->-r ../requirements.txt (line 3)) (0.1.12)\n",
      "Requirement already satisfied: visions[type_image_path]<0.7.7,>=0.7.5 in /home/dgerwig-/.local/lib/python3.10/site-packages (from ydata-profiling==4.8.3->-r ../requirements.txt (line 3)) (0.7.6)\n",
      "Requirement already satisfied: dacite>=1.8 in /home/dgerwig-/.local/lib/python3.10/site-packages (from ydata-profiling==4.8.3->-r ../requirements.txt (line 3)) (1.8.1)\n",
      "Requirement already satisfied: requests<3,>=2.24.0 in /home/dgerwig-/.local/lib/python3.10/site-packages (from ydata-profiling==4.8.3->-r ../requirements.txt (line 3)) (2.32.2)\n",
      "Requirement already satisfied: pillow in /usr/lib/python3/dist-packages (from imagehash==4.3.1->ydata-profiling==4.8.3->-r ../requirements.txt (line 3)) (9.0.1)\n",
      "Requirement already satisfied: PyWavelets in /home/dgerwig-/.local/lib/python3.10/site-packages (from imagehash==4.3.1->ydata-profiling==4.8.3->-r ../requirements.txt (line 3)) (1.6.0)\n",
      "Requirement already satisfied: joblib>=1.2.0 in /home/dgerwig-/.local/lib/python3.10/site-packages (from scikit-learn->-r ../requirements.txt (line 4)) (1.4.2)\n",
      "Requirement already satisfied: threadpoolctl>=3.1.0 in /home/dgerwig-/.local/lib/python3.10/site-packages (from scikit-learn->-r ../requirements.txt (line 4)) (3.5.0)\n",
      "Requirement already satisfied: pyparsing>=2.3.1 in /usr/lib/python3/dist-packages (from matplotlib->-r ../requirements.txt (line 5)) (2.4.7)\n",
      "Requirement already satisfied: contourpy>=1.0.1 in /home/dgerwig-/.local/lib/python3.10/site-packages (from matplotlib->-r ../requirements.txt (line 5)) (1.2.1)\n",
      "Requirement already satisfied: kiwisolver>=1.3.1 in /usr/lib/python3/dist-packages (from matplotlib->-r ../requirements.txt (line 5)) (1.3.2)\n",
      "Requirement already satisfied: packaging>=20.0 in /home/dgerwig-/.local/lib/python3.10/site-packages (from matplotlib->-r ../requirements.txt (line 5)) (24.1)\n",
      "Requirement already satisfied: fonttools>=4.22.0 in /usr/lib/python3/dist-packages (from matplotlib->-r ../requirements.txt (line 5)) (4.29.1)\n",
      "Requirement already satisfied: cycler>=0.10 in /usr/lib/python3/dist-packages (from matplotlib->-r ../requirements.txt (line 5)) (0.11.0)\n",
      "Requirement already satisfied: comm>=0.1.3 in /home/dgerwig-/.local/lib/python3.10/site-packages (from ipywidgets->-r ../requirements.txt (line 7)) (0.2.2)\n",
      "Requirement already satisfied: widgetsnbextension~=4.0.11 in /home/dgerwig-/.local/lib/python3.10/site-packages (from ipywidgets->-r ../requirements.txt (line 7)) (4.0.11)\n",
      "Requirement already satisfied: traitlets>=4.3.1 in /home/dgerwig-/.local/lib/python3.10/site-packages (from ipywidgets->-r ../requirements.txt (line 7)) (5.14.3)\n",
      "Requirement already satisfied: jupyterlab-widgets~=3.0.11 in /home/dgerwig-/.local/lib/python3.10/site-packages (from ipywidgets->-r ../requirements.txt (line 7)) (3.0.11)\n",
      "Requirement already satisfied: ipython>=6.1.0 in /home/dgerwig-/.local/lib/python3.10/site-packages (from ipywidgets->-r ../requirements.txt (line 7)) (8.26.0)\n",
      "Requirement already satisfied: stack-data in /home/dgerwig-/.local/lib/python3.10/site-packages (from ipython>=6.1.0->ipywidgets->-r ../requirements.txt (line 7)) (0.6.3)\n",
      "Requirement already satisfied: prompt-toolkit<3.1.0,>=3.0.41 in /home/dgerwig-/.local/lib/python3.10/site-packages (from ipython>=6.1.0->ipywidgets->-r ../requirements.txt (line 7)) (3.0.47)\n",
      "Requirement already satisfied: decorator in /home/dgerwig-/.local/lib/python3.10/site-packages (from ipython>=6.1.0->ipywidgets->-r ../requirements.txt (line 7)) (5.1.1)\n",
      "Requirement already satisfied: jedi>=0.16 in /home/dgerwig-/.local/lib/python3.10/site-packages (from ipython>=6.1.0->ipywidgets->-r ../requirements.txt (line 7)) (0.19.1)\n",
      "Requirement already satisfied: typing-extensions>=4.6 in /home/dgerwig-/.local/lib/python3.10/site-packages (from ipython>=6.1.0->ipywidgets->-r ../requirements.txt (line 7)) (4.12.2)\n",
      "Requirement already satisfied: pexpect>4.3 in /home/dgerwig-/.local/lib/python3.10/site-packages (from ipython>=6.1.0->ipywidgets->-r ../requirements.txt (line 7)) (4.9.0)\n",
      "Requirement already satisfied: pygments>=2.4.0 in /home/dgerwig-/.local/lib/python3.10/site-packages (from ipython>=6.1.0->ipywidgets->-r ../requirements.txt (line 7)) (2.18.0)\n",
      "Requirement already satisfied: matplotlib-inline in /home/dgerwig-/.local/lib/python3.10/site-packages (from ipython>=6.1.0->ipywidgets->-r ../requirements.txt (line 7)) (0.1.7)\n",
      "Requirement already satisfied: exceptiongroup in /home/dgerwig-/.local/lib/python3.10/site-packages (from ipython>=6.1.0->ipywidgets->-r ../requirements.txt (line 7)) (1.2.2)\n",
      "Requirement already satisfied: llvmlite<0.44,>=0.43.0dev0 in /home/dgerwig-/.local/lib/python3.10/site-packages (from numba<1,>=0.56.0->ydata-profiling==4.8.3->-r ../requirements.txt (line 3)) (0.43.0)\n",
      "Requirement already satisfied: pydantic-core==2.18.4 in /home/dgerwig-/.local/lib/python3.10/site-packages (from pydantic>=2->ydata-profiling==4.8.3->-r ../requirements.txt (line 3)) (2.18.4)\n",
      "Requirement already satisfied: annotated-types>=0.4.0 in /home/dgerwig-/.local/lib/python3.10/site-packages (from pydantic>=2->ydata-profiling==4.8.3->-r ../requirements.txt (line 3)) (0.7.0)\n",
      "Requirement already satisfied: six>=1.5 in /home/dgerwig-/.local/lib/python3.10/site-packages (from python-dateutil>=2.8.2->pandas==2.2.2->-r ../requirements.txt (line 2)) (1.16.0)\n",
      "Requirement already satisfied: urllib3<3,>=1.21.1 in /home/dgerwig-/.local/lib/python3.10/site-packages (from requests<3,>=2.24.0->ydata-profiling==4.8.3->-r ../requirements.txt (line 3)) (2.2.1)\n",
      "Requirement already satisfied: idna<4,>=2.5 in /home/dgerwig-/.local/lib/python3.10/site-packages (from requests<3,>=2.24.0->ydata-profiling==4.8.3->-r ../requirements.txt (line 3)) (3.7)\n",
      "Requirement already satisfied: charset-normalizer<4,>=2 in /home/dgerwig-/.local/lib/python3.10/site-packages (from requests<3,>=2.24.0->ydata-profiling==4.8.3->-r ../requirements.txt (line 3)) (3.3.2)\n",
      "Requirement already satisfied: certifi>=2017.4.17 in /home/dgerwig-/.local/lib/python3.10/site-packages (from requests<3,>=2.24.0->ydata-profiling==4.8.3->-r ../requirements.txt (line 3)) (2024.6.2)\n",
      "Requirement already satisfied: patsy>=0.5.6 in /home/dgerwig-/.local/lib/python3.10/site-packages (from statsmodels<1,>=0.13.2->ydata-profiling==4.8.3->-r ../requirements.txt (line 3)) (0.5.6)\n",
      "Requirement already satisfied: networkx>=2.4 in /home/dgerwig-/.local/lib/python3.10/site-packages (from visions[type_image_path]<0.7.7,>=0.7.5->ydata-profiling==4.8.3->-r ../requirements.txt (line 3)) (3.2.1)\n",
      "Requirement already satisfied: attrs>=19.3.0 in /usr/lib/python3/dist-packages (from visions[type_image_path]<0.7.7,>=0.7.5->ydata-profiling==4.8.3->-r ../requirements.txt (line 3)) (21.2.0)\n",
      "Requirement already satisfied: parso<0.9.0,>=0.8.3 in /home/dgerwig-/.local/lib/python3.10/site-packages (from jedi>=0.16->ipython>=6.1.0->ipywidgets->-r ../requirements.txt (line 7)) (0.8.4)\n",
      "Requirement already satisfied: ptyprocess>=0.5 in /home/dgerwig-/.local/lib/python3.10/site-packages (from pexpect>4.3->ipython>=6.1.0->ipywidgets->-r ../requirements.txt (line 7)) (0.7.0)\n",
      "Requirement already satisfied: wcwidth in /home/dgerwig-/.local/lib/python3.10/site-packages (from prompt-toolkit<3.1.0,>=3.0.41->ipython>=6.1.0->ipywidgets->-r ../requirements.txt (line 7)) (0.2.13)\n",
      "Requirement already satisfied: pure-eval in /home/dgerwig-/.local/lib/python3.10/site-packages (from stack-data->ipython>=6.1.0->ipywidgets->-r ../requirements.txt (line 7)) (0.2.3)\n",
      "Requirement already satisfied: asttokens>=2.1.0 in /home/dgerwig-/.local/lib/python3.10/site-packages (from stack-data->ipython>=6.1.0->ipywidgets->-r ../requirements.txt (line 7)) (2.4.1)\n",
      "Requirement already satisfied: executing>=1.2.0 in /home/dgerwig-/.local/lib/python3.10/site-packages (from stack-data->ipython>=6.1.0->ipywidgets->-r ../requirements.txt (line 7)) (2.0.1)\n",
      "Note: you may need to restart the kernel to use updated packages.\n"
     ]
    }
   ],
   "source": [
    "%pip install -r ../requirements.txt"
   ]
  },
  {
   "cell_type": "markdown",
   "metadata": {},
   "source": [
    "#### 💪 Training"
   ]
  },
  {
   "cell_type": "code",
   "execution_count": 385,
   "metadata": {},
   "outputs": [],
   "source": [
    "import seaborn as sns\n",
    "import matplotlib.pyplot as plt\n",
    "import pandas as pd\n",
    "\n",
    "from sklearn.model_selection import train_test_split\n",
    "\n",
    "from sklearn.linear_model import LogisticRegression\n",
    "from sklearn.tree import DecisionTreeClassifier\n",
    "from sklearn.svm import SVC\n",
    "from sklearn.neighbors import KNeighborsClassifier\n",
    "from sklearn.naive_bayes import GaussianNB\n",
    "from sklearn.ensemble import RandomForestClassifier, AdaBoostClassifier, GradientBoostingClassifier\n",
    "\n",
    "from sklearn.pipeline import Pipeline\n",
    "from sklearn.preprocessing import StandardScaler\n",
    "\n",
    "from sklearn.model_selection import GridSearchCV, RepeatedStratifiedKFold\n",
    "\n",
    "from sklearn.metrics import accuracy_score\n",
    "from sklearn.metrics import classification_report\n",
    "from sklearn.metrics import confusion_matrix\n"
   ]
  },
  {
   "cell_type": "code",
   "execution_count": 386,
   "metadata": {},
   "outputs": [],
   "source": [
    "proc_data_path='../data/processed/road_traffic_accidents_dataset_proc.csv'\n",
    "train_data = pd.read_csv(proc_data_path)\n"
   ]
  },
  {
   "cell_type": "code",
   "execution_count": 387,
   "metadata": {},
   "outputs": [],
   "source": [
    "x = train_data.drop('accident_severity', axis=1)\n",
    "y = train_data['accident_severity']\n",
    "\n",
    "xtrain, xtest, ytrain, ytest = train_test_split(x, y, test_size=0.2, random_state=42)\n"
   ]
  },
  {
   "cell_type": "code",
   "execution_count": 388,
   "metadata": {},
   "outputs": [
    {
     "name": "stdout",
     "output_type": "stream",
     "text": [
      "Train x shape: (2311, 236)\n",
      "Train y shape: (2311,)\n",
      "Test x shape: (578, 236)\n",
      "Test y shape: (578,)\n"
     ]
    }
   ],
   "source": [
    "print('Train x shape:', xtrain.shape)\n",
    "print('Train y shape:', ytrain.shape)\n",
    "print('Test x shape:', xtest.shape)\n",
    "print('Test y shape:', ytest.shape)\n",
    "\n",
    "xtrain.to_csv('../data/train/xtrain.csv', index=False)\n",
    "ytrain.to_csv('../data/train/ytrain.csv', index=False)\n",
    "xtest.to_csv('../data/test/xtest.csv', index=False)\n",
    "ytest.to_csv('../data/test/ytest.csv', index=False)\n"
   ]
  },
  {
   "cell_type": "code",
   "execution_count": 389,
   "metadata": {},
   "outputs": [],
   "source": [
    "models={\"LogisticRegression\":LogisticRegression(max_iter=1000),\n",
    "        \"DecisionTreeClassifier\":DecisionTreeClassifier(),\n",
    "        \"KNeighborsClassifier\":KNeighborsClassifier(),\n",
    "        \"RandomForestClassifier\":RandomForestClassifier(),\n",
    "        # \"AdaBoostClassifier\":AdaBoostClassifier(),\n",
    "        # \"GradientBoostingClassifier\":GradientBoostingClassifier(),\n",
    "        }"
   ]
  },
  {
   "cell_type": "code",
   "execution_count": 390,
   "metadata": {},
   "outputs": [],
   "source": [
    "# models,x,y,scaleFlag=0,1,2\n",
    "def modelAccuracy(models,x,y,scaleFlag):\n",
    "    #train/Test\n",
    "    xtrain,xtest,ytrain,ytest=train_test_split(x,y,test_size=0.2,random_state=42)\n",
    "    acc_result={}\n",
    "    for name,model in models.items():\n",
    "        #pipeline\n",
    "        #1.Transformer -> 2.Model\n",
    "        if(scaleFlag==1):\n",
    "            model_pipeline=Pipeline([('MinMaxScler',MinMaxScaler()),('model',model)])\n",
    "        elif(scaleFlag==2):\n",
    "             model_pipeline=Pipeline([('StandardScaler',StandardScaler()),('model',model)])\n",
    "        else:\n",
    "            model_pipeline=Pipeline([('model',model)])\n",
    "        #training/testing on model pipeline\n",
    "        model_fit=model_pipeline.fit(xtrain,ytrain)\n",
    "        ypred=model_fit.predict(xtest)\n",
    "        acc=accuracy_score(ytest,ypred)\n",
    "        print(\"The Accuracy for \",name,\" is :\",acc)\n",
    "        acc_result[name]=acc\n",
    "    return acc_result"
   ]
  },
  {
   "cell_type": "code",
   "execution_count": 391,
   "metadata": {},
   "outputs": [],
   "source": [
    "def bestModel(result):\n",
    "    high=0\n",
    "    for name,acc in result.items():\n",
    "        if acc>high:\n",
    "            high=acc\n",
    "            model_name=name\n",
    "    print(\"Best Model is \",model_name,\" with accuaracy =>\",high)"
   ]
  },
  {
   "cell_type": "code",
   "execution_count": 392,
   "metadata": {},
   "outputs": [],
   "source": [
    "def bestParams(model,param,xtrain,ytrain):\n",
    "    #cv\n",
    "    cv=RepeatedStratifiedKFold(n_splits=5,n_repeats=3)\n",
    "    grid_cv=GridSearchCV(estimator=model,param_grid=param,cv=cv,scoring=\"f1_weighted\")\n",
    "    res=grid_cv.fit(xtrain,ytrain)\n",
    "    print(\"Best Parameters are \",res.best_params_)\n",
    "    print(\"Best Accuracy is \",res.best_score_)"
   ]
  },
  {
   "cell_type": "code",
   "execution_count": 393,
   "metadata": {},
   "outputs": [
    {
     "name": "stdout",
     "output_type": "stream",
     "text": [
      "The Accuracy for  LogisticRegression  is : 0.8529411764705882\n",
      "The Accuracy for  DecisionTreeClassifier  is : 0.7577854671280276\n",
      "The Accuracy for  KNeighborsClassifier  is : 0.8667820069204152\n",
      "The Accuracy for  RandomForestClassifier  is : 0.8719723183391004\n"
     ]
    }
   ],
   "source": [
    "acc_result=modelAccuracy(models,x,y,0)"
   ]
  },
  {
   "cell_type": "code",
   "execution_count": 394,
   "metadata": {},
   "outputs": [
    {
     "name": "stdout",
     "output_type": "stream",
     "text": [
      "Best Model is  RandomForestClassifier  with accuaracy => 0.8719723183391004\n"
     ]
    }
   ],
   "source": [
    "bestModel(acc_result)"
   ]
  },
  {
   "cell_type": "code",
   "execution_count": 395,
   "metadata": {},
   "outputs": [],
   "source": [
    "model=RandomForestClassifier()\n",
    "params={\"n_estimators\" : [100,200],\n",
    "        \"criterion\" : [\"gini\",\"entropy\"]\n",
    "        }\n",
    "# bestParams(model,params,xtrain,ytrain)"
   ]
  },
  {
   "cell_type": "code",
   "execution_count": 396,
   "metadata": {},
   "outputs": [],
   "source": [
    "#retrain the model with best parameters\n",
    "model=RandomForestClassifier(criterion=\"entropy\",n_estimators=200)\n",
    "model.fit(xtrain,ytrain)\n",
    "ypred=model.predict(xtest)\n"
   ]
  },
  {
   "cell_type": "code",
   "execution_count": 397,
   "metadata": {},
   "outputs": [],
   "source": [
    "#export the model\n",
    "import pickle\n",
    "pickle.dump(model,open(\"../models/road_traffic_accidents_model.pkl\",\"wb\"))\n"
   ]
  },
  {
   "cell_type": "code",
   "execution_count": 398,
   "metadata": {},
   "outputs": [
    {
     "name": "stdout",
     "output_type": "stream",
     "text": [
      "Accuracy: 0.870242214532872\n",
      "Classification Report:\n",
      "              precision    recall  f1-score   support\n",
      "\n",
      "           0       0.00      0.00      0.00         8\n",
      "           1       0.00      0.00      0.00        67\n",
      "           2       0.87      1.00      0.93       503\n",
      "\n",
      "    accuracy                           0.87       578\n",
      "   macro avg       0.29      0.33      0.31       578\n",
      "weighted avg       0.76      0.87      0.81       578\n",
      "\n"
     ]
    },
    {
     "data": {
      "image/png": "[encoded data removed]",
      "text/plain": [
       "<Figure size 1000x700 with 2 Axes>"
      ]
     },
     "metadata": {},
     "output_type": "display_data"
    }
   ],
   "source": [
    "#Final Evaluation\n",
    "\n",
    "# Print accuracy\n",
    "print(\"Accuracy:\", accuracy_score(ytest, ypred))\n",
    "\n",
    "# Print classification report with zero_division parameter\n",
    "print(\"Classification Report:\")\n",
    "print(classification_report(ytest, ypred, zero_division=0))  # Set zero_division to 0\n",
    "\n",
    "# Generate and plot confusion matrix\n",
    "cm = confusion_matrix(ytest, ypred)\n",
    "\n",
    "plt.figure(figsize=(10, 7))\n",
    "sns.heatmap(cm, annot=True, fmt='d', cmap='Blues', xticklabels=['Fatal Injury', 'Serious Injury', 'Slight Injury'], yticklabels=['Fatal Injury', 'Serious Injury', 'Slight Injury'])\n",
    "plt.xlabel('Predicted Labels')\n",
    "plt.ylabel('True Labels')\n",
    "plt.title('Confusion Matrix')\n",
    "plt.show()"
   ]
  },
  {
   "cell_type": "markdown",
   "metadata": {},
   "source": [
    "#### 🎯 Predict"
   ]
  }
 ],
 "metadata": {
  "kernelspec": {
   "display_name": "Python 3",
   "language": "python",
   "name": "python3"
  },
  "language_info": {
   "codemirror_mode": {
    "name": "ipython",
    "version": 3
   },
   "file_extension": ".py",
   "mimetype": "text/x-python",
   "name": "python",
   "nbconvert_exporter": "python",
   "pygments_lexer": "ipython3",
   "version": "3.10.12"
  }
 },
 "nbformat": 4,
 "nbformat_minor": 2
}
