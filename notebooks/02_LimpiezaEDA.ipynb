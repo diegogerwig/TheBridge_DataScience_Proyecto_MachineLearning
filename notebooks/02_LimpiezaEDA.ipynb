{
 "cells": [
  {
   "cell_type": "markdown",
   "metadata": {},
   "source": [
    "### Limpieza / EDA"
   ]
  },
  {
   "cell_type": "code",
   "execution_count": null,
   "metadata": {},
   "outputs": [],
   "source": [
    "pip install -r ../requirements.txt"
   ]
  },
  {
   "cell_type": "code",
   "execution_count": 2,
   "metadata": {},
   "outputs": [
    {
     "name": "stdout",
     "output_type": "stream",
     "text": [
      "Package                          Version\n",
      "-------------------------------- --------------\n",
      "annotated-types                  0.7.0\n",
      "antlr4-python3-runtime           4.13.1\n",
      "anyio                            4.4.0\n",
      "argon2-cffi                      23.1.0\n",
      "argon2-cffi-bindings             21.2.0\n",
      "arrow                            1.3.0\n",
      "asttokens                        2.4.1\n",
      "attrs                            23.2.0\n",
      "backoff                          2.2.1\n",
      "beautifulsoup4                   4.12.3\n",
      "bleach                           6.1.0\n",
      "branca                           0.7.2\n",
      "certifi                          2024.2.2\n",
      "cffi                             1.16.0\n",
      "charset-normalizer               3.3.2\n",
      "circuit-knitting-toolbox         0.7.2\n",
      "click                            8.1.7\n",
      "click-plugins                    1.1.1\n",
      "cligj                            0.7.2\n",
      "colorama                         0.4.6\n",
      "comm                             0.2.2\n",
      "contourpy                        1.2.1\n",
      "cryptography                     42.0.8\n",
      "cycler                           0.12.1\n",
      "dacite                           1.8.1\n",
      "debugpy                          1.8.1\n",
      "decorator                        5.1.1\n",
      "defusedxml                       0.7.1\n",
      "dill                             0.3.8\n",
      "dimod                            0.12.14\n",
      "executing                        2.0.1\n",
      "fastjsonschema                   2.19.1\n",
      "fiona                            1.9.6\n",
      "folium                           0.17.0\n",
      "fonttools                        4.51.0\n",
      "fqdn                             1.5.1\n",
      "geopandas                        0.14.4\n",
      "graphviz                         0.20.3\n",
      "htmlmin                          0.1.12\n",
      "ibm-cloud-sdk-core               3.20.1\n",
      "ibm-platform-services            0.53.7\n",
      "idna                             3.7\n",
      "ImageHash                        4.3.1\n",
      "ipycytoscape                     1.3.3\n",
      "ipykernel                        6.29.4\n",
      "ipython                          8.23.0\n",
      "ipywidgets                       8.1.3\n",
      "isoduration                      20.11.0\n",
      "jedi                             0.19.1\n",
      "Jinja2                           3.1.4\n",
      "joblib                           1.4.2\n",
      "jsonpickle                       3.0.3\n",
      "jsonpointer                      2.4\n",
      "jsonschema                       4.22.0\n",
      "jsonschema-specifications        2023.12.1\n",
      "jupyter_client                   8.6.1\n",
      "jupyter_core                     5.7.2\n",
      "jupyter-events                   0.10.0\n",
      "jupyter_server                   2.14.1\n",
      "jupyter_server_terminals         0.5.3\n",
      "jupyterlab_pygments              0.3.0\n",
      "jupyterlab_widgets               3.0.11\n",
      "kiwisolver                       1.4.5\n",
      "llvmlite                         0.42.0\n",
      "MarkupSafe                       2.1.5\n",
      "matplotlib                       3.8.4\n",
      "matplotlib-inline                0.1.7\n",
      "mistune                          3.0.2\n",
      "mpmath                           1.3.0\n",
      "multimethod                      1.11.2\n",
      "nbclient                         0.10.0\n",
      "nbconvert                        7.16.4\n",
      "nbformat                         5.10.4\n",
      "nest-asyncio                     1.6.0\n",
      "networkx                         3.2.1\n",
      "numba                            0.59.1\n",
      "numpy                            1.26.4\n",
      "openqasm3                        0.5.0\n",
      "overrides                        7.7.0\n",
      "packaging                        24.0\n",
      "pandas                           2.2.2\n",
      "pandocfilters                    1.5.1\n",
      "parso                            0.8.4\n",
      "patsy                            0.5.6\n",
      "pbr                              6.0.0\n",
      "phik                             0.12.4\n",
      "pillow                           10.3.0\n",
      "pip                              24.0\n",
      "platformdirs                     4.2.1\n",
      "plotly                           5.22.0\n",
      "prometheus_client                0.20.0\n",
      "prompt-toolkit                   3.0.43\n",
      "prototype-zne                    1.3.1\n",
      "psutil                           5.9.8\n",
      "pure-eval                        0.2.2\n",
      "pycparser                        2.22\n",
      "pydantic                         2.7.2\n",
      "pydantic_core                    2.18.3\n",
      "pydot                            2.0.0\n",
      "Pygments                         2.17.2\n",
      "PyJWT                            2.8.0\n",
      "pylatexenc                       2.10\n",
      "pyparsing                        3.1.2\n",
      "pyproj                           3.6.1\n",
      "pyspnego                         0.10.2\n",
      "python-dateutil                  2.9.0.post0\n",
      "python-dotenv                    1.0.1\n",
      "python-json-logger               2.0.7\n",
      "pytz                             2024.1\n",
      "PyWavelets                       1.6.0\n",
      "pywin32                          306\n",
      "pywinpty                         2.0.13\n",
      "PyYAML                           6.0.1\n",
      "pyzmq                            26.0.2\n",
      "qc_grader                        0.18.10\n",
      "qiskit                           1.0.2\n",
      "qiskit-aer                       0.14.2\n",
      "qiskit_code_assistant_jupyterlab 0.2.5\n",
      "qiskit-ibm-runtime               0.23.0\n",
      "qiskit-qasm3-import              0.4.2\n",
      "qiskit-transpiler-service        0.4.3\n",
      "referencing                      0.35.1\n",
      "requests                         2.31.0\n",
      "requests-ntlm                    1.2.0\n",
      "rfc3339-validator                0.1.4\n",
      "rfc3986-validator                0.1.1\n",
      "rpds-py                          0.18.1\n",
      "rustworkx                        0.14.2\n",
      "scipy                            1.13.1\n",
      "seaborn                          0.13.2\n",
      "Send2Trash                       1.8.3\n",
      "setuptools                       70.0.0\n",
      "shapely                          2.0.4\n",
      "six                              1.16.0\n",
      "sniffio                          1.3.1\n",
      "soupsieve                        2.5\n",
      "spectate                         1.0.1\n",
      "sspilib                          0.1.0\n",
      "stack-data                       0.6.3\n",
      "statsmodels                      0.14.2\n",
      "stevedore                        5.2.0\n",
      "symengine                        0.11.0\n",
      "sympy                            1.12.1\n",
      "tenacity                         8.3.0\n",
      "terminado                        0.18.1\n",
      "tinycss2                         1.3.0\n",
      "tornado                          6.4\n",
      "tqdm                             4.66.4\n",
      "traitlets                        5.14.3\n",
      "typeguard                        4.3.0\n",
      "types-python-dateutil            2.9.0.20240316\n",
      "typing_extensions                4.12.0\n",
      "tzdata                           2024.1\n",
      "uri-template                     1.3.0\n",
      "urllib3                          2.2.1\n",
      "visions                          0.7.6\n",
      "wcwidth                          0.2.13\n",
      "webcolors                        24.6.0\n",
      "webencodings                     0.5.1\n",
      "websocket-client                 1.8.0\n",
      "widgetsnbextension               4.0.11\n",
      "wordcloud                        1.9.3\n",
      "xyzservices                      2024.6.0\n",
      "ydata-profiling                  4.8.3\n",
      "Note: you may need to restart the kernel to use updated packages.\n"
     ]
    },
    {
     "name": "stderr",
     "output_type": "stream",
     "text": [
      "\n",
      "[notice] A new release of pip is available: 24.0 -> 24.2\n",
      "[notice] To update, run: python.exe -m pip install --upgrade pip\n"
     ]
    }
   ],
   "source": [
    "pip list"
   ]
  },
  {
   "cell_type": "code",
   "execution_count": 3,
   "metadata": {},
   "outputs": [],
   "source": [
    "# pip uninstall numpy\n"
   ]
  },
  {
   "cell_type": "code",
   "execution_count": 4,
   "metadata": {},
   "outputs": [],
   "source": [
    "# pip install numpy scipy statsmodels\n"
   ]
  },
  {
   "cell_type": "code",
   "execution_count": 5,
   "metadata": {},
   "outputs": [],
   "source": [
    "# pip install --force-reinstall ydata-profiling\n"
   ]
  },
  {
   "cell_type": "markdown",
   "metadata": {},
   "source": [
    "#### 🔎 Exploratory Data Analysis"
   ]
  },
  {
   "cell_type": "code",
   "execution_count": 6,
   "metadata": {},
   "outputs": [
    {
     "ename": "ModuleNotFoundError",
     "evalue": "No module named 'sklearn'",
     "output_type": "error",
     "traceback": [
      "\u001b[1;31m---------------------------------------------------------------------------\u001b[0m",
      "\u001b[1;31mModuleNotFoundError\u001b[0m                       Traceback (most recent call last)",
      "Cell \u001b[1;32mIn[6], line 9\u001b[0m\n\u001b[0;32m      7\u001b[0m \u001b[38;5;28;01mimport\u001b[39;00m \u001b[38;5;21;01mseaborn\u001b[39;00m \u001b[38;5;28;01mas\u001b[39;00m \u001b[38;5;21;01msns\u001b[39;00m\n\u001b[0;32m      8\u001b[0m \u001b[38;5;28;01mfrom\u001b[39;00m \u001b[38;5;21;01mydata_profiling\u001b[39;00m \u001b[38;5;28;01mimport\u001b[39;00m ProfileReport\n\u001b[1;32m----> 9\u001b[0m \u001b[38;5;28;01mfrom\u001b[39;00m \u001b[38;5;21;01msklearn\u001b[39;00m\u001b[38;5;21;01m.\u001b[39;00m\u001b[38;5;21;01mpreprocessing\u001b[39;00m \u001b[38;5;28;01mimport\u001b[39;00m LabelEncoder\n",
      "\u001b[1;31mModuleNotFoundError\u001b[0m: No module named 'sklearn'"
     ]
    }
   ],
   "source": [
    "import pandas as pd\n",
    "import os\n",
    "import matplotlib.pyplot as plt\n",
    "import matplotlib.patches as mpatches \n",
    "%matplotlib inline\n",
    "\n",
    "import seaborn as sns\n",
    "from ydata_profiling import ProfileReport\n",
    "from sklearn.preprocessing import LabelEncoder\n"
   ]
  },
  {
   "cell_type": "code",
   "execution_count": null,
   "metadata": {},
   "outputs": [],
   "source": [
    "raw_data_path='../data/raw/road_traffic_accidents_dataset.csv'"
   ]
  },
  {
   "cell_type": "code",
   "execution_count": null,
   "metadata": {},
   "outputs": [],
   "source": [
    "raw_data = pd.read_csv(raw_data_path)"
   ]
  },
  {
   "cell_type": "code",
   "execution_count": null,
   "metadata": {},
   "outputs": [],
   "source": [
    "profile = ProfileReport(raw_data)"
   ]
  },
  {
   "cell_type": "code",
   "execution_count": null,
   "metadata": {},
   "outputs": [],
   "source": [
    "# profile"
   ]
  },
  {
   "cell_type": "markdown",
   "metadata": {},
   "source": [
    "#### 🧹 Data Cleaning"
   ]
  },
  {
   "cell_type": "markdown",
   "metadata": {},
   "source": [
    "1. **Remove Duplicates**\n",
    "   - **Objective**: Eliminate duplicate rows in the dataset to avoid redundancy.\n",
    "   - **Action**: Identify and remove duplicate rows based on all or selected columns.\n",
    "   - **Example**: `df.drop_duplicates()`.\n",
    "\n",
    "2. **Handle Missing Values**\n",
    "   - **Objective**: Address missing or incomplete data to ensure data quality.\n",
    "   - **Actions**:\n",
    "     - **Imputation**: Replace missing values with a statistical measure such as mean, median, or mode.\n",
    "     - **Removal**: Remove rows or columns with missing values if they are insignificant.\n",
    "     - **Flagging**: Create a separate flag column to indicate missing values.\n",
    "   - **Example**: `df.fillna()` for imputation or `df.dropna()` to remove missing values.\n",
    "\n",
    "3. **Correct Data Types**\n",
    "   - **Objective**: Ensure that each column in the dataset has the correct data type.\n",
    "   - **Actions**:\n",
    "     - **Conversion**: Convert columns to appropriate data types (e.g., integer, float, datetime).\n",
    "     - **Verification**: Check and verify data types after conversion.\n",
    "   - **Example**: Using pandas, you can use `df.astype()` to change data types.\n",
    "\n",
    "4. **Remove or Address Outliers**\n",
    "   - **Objective**: Identify and handle data points that deviate significantly from other observations.\n",
    "   - **Actions**:\n",
    "     - **Detection**: Use statistical methods or visualization to identify outliers.\n",
    "     - **Handling**: Decide whether to remove outliers, adjust their values, or analyze their impact.\n",
    "   - **Example**: You can use methods like Z-scores or IQR to detect outliers."
   ]
  },
  {
   "cell_type": "code",
   "execution_count": null,
   "metadata": {},
   "outputs": [],
   "source": [
    "# processing_path='../src/data_processing.py'\n",
    "# !python3 {processing_path} {raw_data_path}\n"
   ]
  },
  {
   "cell_type": "code",
   "execution_count": null,
   "metadata": {},
   "outputs": [],
   "source": [
    "temp_data=raw_data.dropna()"
   ]
  },
  {
   "cell_type": "code",
   "execution_count": null,
   "metadata": {},
   "outputs": [],
   "source": [
    "temp_data=temp_data.rename(columns=lambda x: x.lower())"
   ]
  },
  {
   "cell_type": "code",
   "execution_count": null,
   "metadata": {},
   "outputs": [],
   "source": [
    "drop_columns=[]\n",
    "# drop_columns=['Time', 'Day_of_week']\n",
    "temp_data=temp_data.drop(columns=drop_columns)"
   ]
  },
  {
   "cell_type": "code",
   "execution_count": null,
   "metadata": {},
   "outputs": [],
   "source": [
    "temp_data['time']=pd.to_datetime(temp_data['time'])"
   ]
  },
  {
   "cell_type": "code",
   "execution_count": null,
   "metadata": {},
   "outputs": [],
   "source": [
    "column_encoder = 'accident_severity'\n",
    "label_encoder = LabelEncoder()\n",
    "temp_data[column_encoder] = label_encoder.fit_transform(temp_data[column_encoder])"
   ]
  },
  {
   "cell_type": "code",
   "execution_count": null,
   "metadata": {},
   "outputs": [],
   "source": [
    "temp_data = pd.get_dummies(temp_data, columns=[col for col in temp_data.columns if col != column_encoder], dtype=int)\n",
    "temp_data=pd.get_dummies(temp_data, dtype=int)"
   ]
  },
  {
   "cell_type": "code",
   "execution_count": null,
   "metadata": {},
   "outputs": [],
   "source": [
    "temp_data=temp_data.rename(columns=lambda x: x.lower())"
   ]
  },
  {
   "cell_type": "code",
   "execution_count": null,
   "metadata": {},
   "outputs": [],
   "source": [
    "# Construct the output file path\n",
    "base_name = os.path.basename(raw_data_path)\n",
    "name, ext = os.path.splitext(base_name)\n",
    "output_file_name = f\"{name}_proc{ext}\"\n",
    "\n",
    "# Define the processed directory path\n",
    "processed_dir = '../data/processed'\n",
    "os.makedirs(processed_dir, exist_ok=True)\n",
    "output_path = os.path.join(processed_dir, output_file_name)\n",
    "\n",
    "temp_data.to_csv(output_path, index=False)\n",
    "print(f\"\\n✅ The processed DataFrame has been saved to {output_path}\")"
   ]
  },
  {
   "cell_type": "code",
   "execution_count": null,
   "metadata": {},
   "outputs": [],
   "source": [
    "proc_data_path='../data/processed/road_traffic_accidents_dataset_proc.csv'\n",
    "\n",
    "proc_data=pd.read_csv(proc_data_path)"
   ]
  },
  {
   "cell_type": "code",
   "execution_count": null,
   "metadata": {},
   "outputs": [],
   "source": [
    "proc_data.head()"
   ]
  },
  {
   "cell_type": "code",
   "execution_count": null,
   "metadata": {},
   "outputs": [],
   "source": [
    "proc_data.info()"
   ]
  },
  {
   "cell_type": "code",
   "execution_count": null,
   "metadata": {},
   "outputs": [],
   "source": [
    "proc_data.describe(include='all')"
   ]
  },
  {
   "cell_type": "code",
   "execution_count": null,
   "metadata": {},
   "outputs": [],
   "source": [
    "proc_data.isnull().sum()\n"
   ]
  },
  {
   "cell_type": "code",
   "execution_count": null,
   "metadata": {},
   "outputs": [],
   "source": [
    "\n",
    "proc_data.duplicated().sum()\n"
   ]
  },
  {
   "cell_type": "code",
   "execution_count": null,
   "metadata": {},
   "outputs": [],
   "source": [
    "injuries = proc_data[['accident_severity']].value_counts()\n",
    "\n",
    "print(injuries)"
   ]
  }
 ],
 "metadata": {
  "kernelspec": {
   "display_name": "Python 3",
   "language": "python",
   "name": "python3"
  },
  "language_info": {
   "codemirror_mode": {
    "name": "ipython",
    "version": 3
   },
   "file_extension": ".py",
   "mimetype": "text/x-python",
   "name": "python",
   "nbconvert_exporter": "python",
   "pygments_lexer": "ipython3",
   "version": "3.12.3"
  }
 },
 "nbformat": 4,
 "nbformat_minor": 2
}
