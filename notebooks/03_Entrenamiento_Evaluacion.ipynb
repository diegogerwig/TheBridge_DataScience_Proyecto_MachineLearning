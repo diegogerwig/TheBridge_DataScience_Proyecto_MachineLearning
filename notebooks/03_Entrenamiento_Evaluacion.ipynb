{
 "cells": [
  {
   "cell_type": "markdown",
   "metadata": {},
   "source": [
    "### Entranamiento / Evaluación"
   ]
  },
  {
   "cell_type": "code",
   "execution_count": null,
   "metadata": {},
   "outputs": [],
   "source": [
    "%pip install -r ../requirements.txt"
   ]
  },
  {
   "cell_type": "markdown",
   "metadata": {},
   "source": [
    "#### 💪 Training"
   ]
  },
  {
   "cell_type": "code",
   "execution_count": null,
   "metadata": {},
   "outputs": [],
   "source": [
    "import seaborn as sns\n",
    "import matplotlib.pyplot as plt\n",
    "import pandas as pd\n",
    "\n",
    "from sklearn.model_selection import train_test_split\n",
    "\n",
    "from sklearn.linear_model import LogisticRegression\n",
    "from sklearn.tree import DecisionTreeClassifier\n",
    "from sklearn.svm import SVC\n",
    "from sklearn.neighbors import KNeighborsClassifier\n",
    "from sklearn.naive_bayes import GaussianNB\n",
    "from sklearn.ensemble import RandomForestClassifier, AdaBoostClassifier, GradientBoostingClassifier\n",
    "\n",
    "from sklearn.pipeline import Pipeline\n",
    "from sklearn.preprocessing import StandardScaler\n",
    "\n",
    "from sklearn.model_selection import GridSearchCV, RepeatedStratifiedKFold\n",
    "\n",
    "from xgboost import XGBClassifier\n",
    "\n",
    "from sklearn.metrics import accuracy_score\n",
    "from sklearn.metrics import classification_report\n",
    "from sklearn.metrics import confusion_matrix\n"
   ]
  },
  {
   "cell_type": "code",
   "execution_count": null,
   "metadata": {},
   "outputs": [],
   "source": [
    "proc_data_path='../data/processed/road_traffic_accidents_dataset_proc.csv'\n",
    "train_data = pd.read_csv(proc_data_path)\n"
   ]
  },
  {
   "cell_type": "code",
   "execution_count": null,
   "metadata": {},
   "outputs": [],
   "source": [
    "x = train_data.drop('accident_severity', axis=1)\n",
    "y = train_data['accident_severity']\n",
    "\n",
    "xtrain, xtest, ytrain, ytest = train_test_split(x, y, test_size=0.2, random_state=42)\n"
   ]
  },
  {
   "cell_type": "code",
   "execution_count": null,
   "metadata": {},
   "outputs": [],
   "source": [
    "print('Train x shape:', xtrain.shape)\n",
    "print('Train y shape:', ytrain.shape)\n",
    "print('Test x shape:', xtest.shape)\n",
    "print('Test y shape:', ytest.shape)\n",
    "\n",
    "xtrain.to_csv('../data/train/xtrain.csv', index=False)\n",
    "ytrain.to_csv('../data/train/ytrain.csv', index=False)\n",
    "xtest.to_csv('../data/test/xtest.csv', index=False)\n",
    "ytest.to_csv('../data/test/ytest.csv', index=False)\n"
   ]
  },
  {
   "cell_type": "code",
   "execution_count": null,
   "metadata": {},
   "outputs": [],
   "source": [
    "models={\"LogisticRegression\":LogisticRegression(max_iter=1000),\n",
    "        \"DecisionTreeClassifier\":DecisionTreeClassifier(random_state=42),\n",
    "        \"KNeighborsClassifier\":KNeighborsClassifier(n_neighbors=5),\n",
    "        \"SVC\":SVC(kernel=\"linear\", C=0.01),\n",
    "        \"RandomForestClassifier\":RandomForestClassifier(n_estimators=200, random_state=42),\n",
    "        \"AdaBoostClassifier\":AdaBoostClassifier(n_estimators=200, random_state=42),\n",
    "        \"GradientBoostingClassifier\":GradientBoostingClassifier(n_estimators=200, random_state=42),\n",
    "        \"XGBoost\":XGBClassifier(n_estimators=200, random_state=42)\n",
    "        }"
   ]
  },
  {
   "cell_type": "code",
   "execution_count": null,
   "metadata": {},
   "outputs": [],
   "source": [
    "# models,x,y,scaleFlag=0,1,2\n",
    "def modelAccuracy(models,x,y,scaleFlag):\n",
    "    #train/Test\n",
    "    xtrain,xtest,ytrain,ytest=train_test_split(x,y,test_size=0.2,random_state=42)\n",
    "    acc_result={}\n",
    "    for name,model in models.items():\n",
    "        #pipeline\n",
    "        #1.Transformer -> 2.Model\n",
    "        if(scaleFlag==1):\n",
    "            model_pipeline=Pipeline([('MinMaxScler',MinMaxScaler()),('model',model)])\n",
    "        elif(scaleFlag==2):\n",
    "             model_pipeline=Pipeline([('StandardScaler',StandardScaler()),('model',model)])\n",
    "        else:\n",
    "            model_pipeline=Pipeline([('model',model)])\n",
    "        #training/testing on model pipeline\n",
    "        model_fit=model_pipeline.fit(xtrain,ytrain)\n",
    "        ypred=model_fit.predict(xtest)\n",
    "        acc=accuracy_score(ytest,ypred)\n",
    "        print(\"The Accuracy for \",name,\" is :\",acc)\n",
    "        acc_result[name]=acc\n",
    "    return acc_result"
   ]
  },
  {
   "cell_type": "code",
   "execution_count": null,
   "metadata": {},
   "outputs": [],
   "source": [
    "def bestModel(result):\n",
    "    high=0\n",
    "    for name,acc in result.items():\n",
    "        if acc>high:\n",
    "            high=acc\n",
    "            model_name=name\n",
    "    print(\"Best Model is \",model_name,\" with accuaracy =>\",high)"
   ]
  },
  {
   "cell_type": "code",
   "execution_count": null,
   "metadata": {},
   "outputs": [],
   "source": [
    "def bestParams(model,param,xtrain,ytrain):\n",
    "    #cv\n",
    "    cv=RepeatedStratifiedKFold(n_splits=5,n_repeats=3)\n",
    "    grid_cv=GridSearchCV(estimator=model,param_grid=param,cv=cv,scoring=\"f1_weighted\")\n",
    "    res=grid_cv.fit(xtrain,ytrain)\n",
    "    print(\"Best Parameters are \",res.best_params_)\n",
    "    print(\"Best Accuracy is \",res.best_score_)"
   ]
  },
  {
   "cell_type": "code",
   "execution_count": null,
   "metadata": {},
   "outputs": [],
   "source": [
    "acc_result=modelAccuracy(models,x,y,0)"
   ]
  },
  {
   "cell_type": "code",
   "execution_count": null,
   "metadata": {},
   "outputs": [],
   "source": [
    "bestModel(acc_result)"
   ]
  },
  {
   "cell_type": "code",
   "execution_count": null,
   "metadata": {},
   "outputs": [],
   "source": [
    "model=RandomForestClassifier()\n",
    "params={\"n_estimators\" : [100,200],\n",
    "        \"criterion\" : [\"gini\",\"entropy\"]\n",
    "        }\n",
    "# bestParams(model,params,xtrain,ytrain)"
   ]
  },
  {
   "cell_type": "code",
   "execution_count": null,
   "metadata": {},
   "outputs": [],
   "source": [
    "#retrain the model with best parameters\n",
    "model=RandomForestClassifier(criterion=\"entropy\",n_estimators=200)\n",
    "model.fit(xtrain,ytrain)\n",
    "ypred=model.predict(xtest)\n"
   ]
  },
  {
   "cell_type": "code",
   "execution_count": null,
   "metadata": {},
   "outputs": [],
   "source": [
    "#export the model\n",
    "import pickle\n",
    "pickle.dump(model,open(\"../models/road_traffic_accidents_model.pkl\",\"wb\"))\n"
   ]
  },
  {
   "cell_type": "code",
   "execution_count": null,
   "metadata": {},
   "outputs": [],
   "source": [
    "#Final Evaluation\n",
    "\n",
    "# Print accuracy\n",
    "print(\"Accuracy:\", accuracy_score(ytest, ypred))\n",
    "\n",
    "# Print classification report with zero_division parameter\n",
    "print(\"\\nClassification Report:\")\n",
    "print(classification_report(ytest, ypred, zero_division=0))  # Set zero_division to 0\n",
    "\n",
    "# Generate and plot confusion matrix\n",
    "c_matrix = confusion_matrix(ytest, ypred)\n",
    "print(\"\\nConfusion Matrix:\")\n",
    "print(c_matrix)\n",
    "\n",
    "plt.figure(figsize=(10, 7))\n",
    "sns.heatmap(c_matrix, annot=True, fmt='d', cmap='Blues', xticklabels=['Fatal Injury', 'Serious Injury', 'Slight Injury'], yticklabels=['Fatal Injury', 'Serious Injury', 'Slight Injury'])\n",
    "plt.xlabel('Predicted Labels')\n",
    "plt.ylabel('True Labels')\n",
    "plt.title('Confusion Matrix')\n",
    "plt.show()\n",
    "\n",
    "plt.figure(figsize=(10, 7))\n",
    "sns.heatmap(confusion_matrix(ytest, ypred, normalize='true'), annot=True, fmt='.2%', cmap='Blues', xticklabels=['Fatal Injury', 'Serious Injury', 'Slight Injury'], yticklabels=['Fatal Injury', 'Serious Injury', 'Slight Injury'])\n",
    "plt.xlabel('Predicted Labels')\n",
    "plt.ylabel('True Labels')\n",
    "plt.title('Confusion Matrix')\n",
    "plt.show()"
   ]
  },
  {
   "cell_type": "markdown",
   "metadata": {},
   "source": [
    "#### 🎯 Predict"
   ]
  }
 ],
 "metadata": {
  "kernelspec": {
   "display_name": "Python 3",
   "language": "python",
   "name": "python3"
  },
  "language_info": {
   "codemirror_mode": {
    "name": "ipython",
    "version": 3
   },
   "file_extension": ".py",
   "mimetype": "text/x-python",
   "name": "python",
   "nbconvert_exporter": "python",
   "pygments_lexer": "ipython3",
   "version": "3.10.12"
  }
 },
 "nbformat": 4,
 "nbformat_minor": 2
}
