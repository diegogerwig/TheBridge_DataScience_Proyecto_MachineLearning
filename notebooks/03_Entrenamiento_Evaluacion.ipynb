{
 "cells": [
  {
   "cell_type": "markdown",
   "metadata": {},
   "source": [
    "<div class=\"alert alert-block alert-success\">\n",
    "<h3>Entrenamiento / Evaluación</h3>\n",
    "</div>"
   ]
  },
  {
   "cell_type": "code",
   "execution_count": 37,
   "metadata": {},
   "outputs": [
    {
     "name": "stdout",
     "output_type": "stream",
     "text": [
      "Requirement already satisfied: numpy==1.23.2 in c:\\users\\diego gerwig\\appdata\\local\\programs\\python\\python310\\lib\\site-packages (from -r ../requirements.txt (line 1)) (1.23.2)\n",
      "Requirement already satisfied: pandas==2.2.2 in c:\\users\\diego gerwig\\appdata\\local\\programs\\python\\python310\\lib\\site-packages (from -r ../requirements.txt (line 2)) (2.2.2)\n",
      "Requirement already satisfied: ydata-profiling==4.8.3 in c:\\users\\diego gerwig\\appdata\\local\\programs\\python\\python310\\lib\\site-packages (from -r ../requirements.txt (line 3)) (4.8.3)\n",
      "Requirement already satisfied: scikit-learn==1.5.1 in c:\\users\\diego gerwig\\appdata\\local\\programs\\python\\python310\\lib\\site-packages (from -r ../requirements.txt (line 4)) (1.5.1)\n",
      "Requirement already satisfied: imbalanced-learn==0.12.3 in c:\\users\\diego gerwig\\appdata\\local\\programs\\python\\python310\\lib\\site-packages (from -r ../requirements.txt (line 5)) (0.12.3)\n",
      "Requirement already satisfied: matplotlib==3.8.4 in c:\\users\\diego gerwig\\appdata\\local\\programs\\python\\python310\\lib\\site-packages (from -r ../requirements.txt (line 6)) (3.8.4)\n",
      "Requirement already satisfied: seaborn==0.13.2 in c:\\users\\diego gerwig\\appdata\\local\\programs\\python\\python310\\lib\\site-packages (from -r ../requirements.txt (line 7)) (0.13.2)\n",
      "Requirement already satisfied: ipywidgets==8.1.3 in c:\\users\\diego gerwig\\appdata\\local\\programs\\python\\python310\\lib\\site-packages (from -r ../requirements.txt (line 8)) (8.1.3)\n",
      "Requirement already satisfied: pytz>=2020.1 in c:\\users\\diego gerwig\\appdata\\local\\programs\\python\\python310\\lib\\site-packages (from pandas==2.2.2->-r ../requirements.txt (line 2)) (2024.1)\n",
      "Requirement already satisfied: python-dateutil>=2.8.2 in c:\\users\\diego gerwig\\appdata\\roaming\\python\\python310\\site-packages (from pandas==2.2.2->-r ../requirements.txt (line 2)) (2.9.0.post0)\n",
      "Requirement already satisfied: tzdata>=2022.7 in c:\\users\\diego gerwig\\appdata\\local\\programs\\python\\python310\\lib\\site-packages (from pandas==2.2.2->-r ../requirements.txt (line 2)) (2024.1)\n",
      "Requirement already satisfied: typeguard<5,>=3 in c:\\users\\diego gerwig\\appdata\\local\\programs\\python\\python310\\lib\\site-packages (from ydata-profiling==4.8.3->-r ../requirements.txt (line 3)) (4.3.0)\n",
      "Requirement already satisfied: multimethod<2,>=1.4 in c:\\users\\diego gerwig\\appdata\\local\\programs\\python\\python310\\lib\\site-packages (from ydata-profiling==4.8.3->-r ../requirements.txt (line 3)) (1.12)\n",
      "Requirement already satisfied: requests<3,>=2.24.0 in c:\\users\\diego gerwig\\appdata\\local\\programs\\python\\python310\\lib\\site-packages (from ydata-profiling==4.8.3->-r ../requirements.txt (line 3)) (2.32.3)\n",
      "Requirement already satisfied: visions[type_image_path]<0.7.7,>=0.7.5 in c:\\users\\diego gerwig\\appdata\\local\\programs\\python\\python310\\lib\\site-packages (from ydata-profiling==4.8.3->-r ../requirements.txt (line 3)) (0.7.6)\n",
      "Requirement already satisfied: imagehash==4.3.1 in c:\\users\\diego gerwig\\appdata\\local\\programs\\python\\python310\\lib\\site-packages (from ydata-profiling==4.8.3->-r ../requirements.txt (line 3)) (4.3.1)\n",
      "Requirement already satisfied: tqdm<5,>=4.48.2 in c:\\users\\diego gerwig\\appdata\\local\\programs\\python\\python310\\lib\\site-packages (from ydata-profiling==4.8.3->-r ../requirements.txt (line 3)) (4.66.5)\n",
      "Requirement already satisfied: numba<1,>=0.56.0 in c:\\users\\diego gerwig\\appdata\\local\\programs\\python\\python310\\lib\\site-packages (from ydata-profiling==4.8.3->-r ../requirements.txt (line 3)) (0.60.0)\n",
      "Requirement already satisfied: scipy<1.14,>=1.4.1 in c:\\users\\diego gerwig\\appdata\\local\\programs\\python\\python310\\lib\\site-packages (from ydata-profiling==4.8.3->-r ../requirements.txt (line 3)) (1.13.1)\n",
      "Requirement already satisfied: PyYAML<6.1,>=5.0.0 in c:\\users\\diego gerwig\\appdata\\local\\programs\\python\\python310\\lib\\site-packages (from ydata-profiling==4.8.3->-r ../requirements.txt (line 3)) (6.0.2)\n",
      "Requirement already satisfied: pydantic>=2 in c:\\users\\diego gerwig\\appdata\\local\\programs\\python\\python310\\lib\\site-packages (from ydata-profiling==4.8.3->-r ../requirements.txt (line 3)) (2.8.2)\n",
      "Requirement already satisfied: htmlmin==0.1.12 in c:\\users\\diego gerwig\\appdata\\local\\programs\\python\\python310\\lib\\site-packages (from ydata-profiling==4.8.3->-r ../requirements.txt (line 3)) (0.1.12)\n",
      "Requirement already satisfied: jinja2<3.2,>=2.11.1 in c:\\users\\diego gerwig\\appdata\\local\\programs\\python\\python310\\lib\\site-packages (from ydata-profiling==4.8.3->-r ../requirements.txt (line 3)) (3.1.4)\n",
      "Requirement already satisfied: phik<0.13,>=0.11.1 in c:\\users\\diego gerwig\\appdata\\local\\programs\\python\\python310\\lib\\site-packages (from ydata-profiling==4.8.3->-r ../requirements.txt (line 3)) (0.12.4)\n",
      "Requirement already satisfied: dacite>=1.8 in c:\\users\\diego gerwig\\appdata\\local\\programs\\python\\python310\\lib\\site-packages (from ydata-profiling==4.8.3->-r ../requirements.txt (line 3)) (1.8.1)\n",
      "Requirement already satisfied: statsmodels<1,>=0.13.2 in c:\\users\\diego gerwig\\appdata\\local\\programs\\python\\python310\\lib\\site-packages (from ydata-profiling==4.8.3->-r ../requirements.txt (line 3)) (0.14.2)\n",
      "Requirement already satisfied: wordcloud>=1.9.1 in c:\\users\\diego gerwig\\appdata\\local\\programs\\python\\python310\\lib\\site-packages (from ydata-profiling==4.8.3->-r ../requirements.txt (line 3)) (1.9.3)\n",
      "Requirement already satisfied: threadpoolctl>=3.1.0 in c:\\users\\diego gerwig\\appdata\\local\\programs\\python\\python310\\lib\\site-packages (from scikit-learn==1.5.1->-r ../requirements.txt (line 4)) (3.5.0)\n",
      "Requirement already satisfied: joblib>=1.2.0 in c:\\users\\diego gerwig\\appdata\\local\\programs\\python\\python310\\lib\\site-packages (from scikit-learn==1.5.1->-r ../requirements.txt (line 4)) (1.4.2)\n",
      "Requirement already satisfied: contourpy>=1.0.1 in c:\\users\\diego gerwig\\appdata\\local\\programs\\python\\python310\\lib\\site-packages (from matplotlib==3.8.4->-r ../requirements.txt (line 6)) (1.2.1)\n",
      "Requirement already satisfied: cycler>=0.10 in c:\\users\\diego gerwig\\appdata\\local\\programs\\python\\python310\\lib\\site-packages (from matplotlib==3.8.4->-r ../requirements.txt (line 6)) (0.12.1)\n",
      "Requirement already satisfied: packaging>=20.0 in c:\\users\\diego gerwig\\appdata\\roaming\\python\\python310\\site-packages (from matplotlib==3.8.4->-r ../requirements.txt (line 6)) (24.1)\n",
      "Requirement already satisfied: kiwisolver>=1.3.1 in c:\\users\\diego gerwig\\appdata\\local\\programs\\python\\python310\\lib\\site-packages (from matplotlib==3.8.4->-r ../requirements.txt (line 6)) (1.4.5)\n",
      "Requirement already satisfied: pyparsing>=2.3.1 in c:\\users\\diego gerwig\\appdata\\local\\programs\\python\\python310\\lib\\site-packages (from matplotlib==3.8.4->-r ../requirements.txt (line 6)) (3.1.2)\n",
      "Requirement already satisfied: pillow>=8 in c:\\users\\diego gerwig\\appdata\\local\\programs\\python\\python310\\lib\\site-packages (from matplotlib==3.8.4->-r ../requirements.txt (line 6)) (10.4.0)\n",
      "Requirement already satisfied: fonttools>=4.22.0 in c:\\users\\diego gerwig\\appdata\\local\\programs\\python\\python310\\lib\\site-packages (from matplotlib==3.8.4->-r ../requirements.txt (line 6)) (4.53.1)\n",
      "Requirement already satisfied: ipython>=6.1.0 in c:\\users\\diego gerwig\\appdata\\roaming\\python\\python310\\site-packages (from ipywidgets==8.1.3->-r ../requirements.txt (line 8)) (8.26.0)\n",
      "Requirement already satisfied: traitlets>=4.3.1 in c:\\users\\diego gerwig\\appdata\\roaming\\python\\python310\\site-packages (from ipywidgets==8.1.3->-r ../requirements.txt (line 8)) (5.14.3)\n",
      "Requirement already satisfied: jupyterlab-widgets~=3.0.11 in c:\\users\\diego gerwig\\appdata\\local\\programs\\python\\python310\\lib\\site-packages (from ipywidgets==8.1.3->-r ../requirements.txt (line 8)) (3.0.11)\n",
      "Requirement already satisfied: widgetsnbextension~=4.0.11 in c:\\users\\diego gerwig\\appdata\\local\\programs\\python\\python310\\lib\\site-packages (from ipywidgets==8.1.3->-r ../requirements.txt (line 8)) (4.0.11)\n",
      "Requirement already satisfied: comm>=0.1.3 in c:\\users\\diego gerwig\\appdata\\roaming\\python\\python310\\site-packages (from ipywidgets==8.1.3->-r ../requirements.txt (line 8)) (0.2.2)\n",
      "Requirement already satisfied: PyWavelets in c:\\users\\diego gerwig\\appdata\\local\\programs\\python\\python310\\lib\\site-packages (from imagehash==4.3.1->ydata-profiling==4.8.3->-r ../requirements.txt (line 3)) (1.7.0)\n",
      "Requirement already satisfied: exceptiongroup in c:\\users\\diego gerwig\\appdata\\roaming\\python\\python310\\site-packages (from ipython>=6.1.0->ipywidgets==8.1.3->-r ../requirements.txt (line 8)) (1.2.2)\n",
      "Requirement already satisfied: matplotlib-inline in c:\\users\\diego gerwig\\appdata\\roaming\\python\\python310\\site-packages (from ipython>=6.1.0->ipywidgets==8.1.3->-r ../requirements.txt (line 8)) (0.1.7)\n",
      "Requirement already satisfied: jedi>=0.16 in c:\\users\\diego gerwig\\appdata\\roaming\\python\\python310\\site-packages (from ipython>=6.1.0->ipywidgets==8.1.3->-r ../requirements.txt (line 8)) (0.19.1)\n",
      "Requirement already satisfied: pygments>=2.4.0 in c:\\users\\diego gerwig\\appdata\\roaming\\python\\python310\\site-packages (from ipython>=6.1.0->ipywidgets==8.1.3->-r ../requirements.txt (line 8)) (2.18.0)\n",
      "Requirement already satisfied: prompt-toolkit<3.1.0,>=3.0.41 in c:\\users\\diego gerwig\\appdata\\roaming\\python\\python310\\site-packages (from ipython>=6.1.0->ipywidgets==8.1.3->-r ../requirements.txt (line 8)) (3.0.47)\n",
      "Requirement already satisfied: stack-data in c:\\users\\diego gerwig\\appdata\\roaming\\python\\python310\\site-packages (from ipython>=6.1.0->ipywidgets==8.1.3->-r ../requirements.txt (line 8)) (0.6.3)\n",
      "Requirement already satisfied: typing-extensions>=4.6 in c:\\users\\diego gerwig\\appdata\\roaming\\python\\python310\\site-packages (from ipython>=6.1.0->ipywidgets==8.1.3->-r ../requirements.txt (line 8)) (4.12.2)\n",
      "Requirement already satisfied: colorama in c:\\users\\diego gerwig\\appdata\\roaming\\python\\python310\\site-packages (from ipython>=6.1.0->ipywidgets==8.1.3->-r ../requirements.txt (line 8)) (0.4.6)\n",
      "Requirement already satisfied: decorator in c:\\users\\diego gerwig\\appdata\\roaming\\python\\python310\\site-packages (from ipython>=6.1.0->ipywidgets==8.1.3->-r ../requirements.txt (line 8)) (5.1.1)\n",
      "Requirement already satisfied: MarkupSafe>=2.0 in c:\\users\\diego gerwig\\appdata\\local\\programs\\python\\python310\\lib\\site-packages (from jinja2<3.2,>=2.11.1->ydata-profiling==4.8.3->-r ../requirements.txt (line 3)) (2.1.5)\n",
      "Requirement already satisfied: llvmlite<0.44,>=0.43.0dev0 in c:\\users\\diego gerwig\\appdata\\local\\programs\\python\\python310\\lib\\site-packages (from numba<1,>=0.56.0->ydata-profiling==4.8.3->-r ../requirements.txt (line 3)) (0.43.0)\n",
      "Requirement already satisfied: annotated-types>=0.4.0 in c:\\users\\diego gerwig\\appdata\\local\\programs\\python\\python310\\lib\\site-packages (from pydantic>=2->ydata-profiling==4.8.3->-r ../requirements.txt (line 3)) (0.7.0)\n",
      "Requirement already satisfied: pydantic-core==2.20.1 in c:\\users\\diego gerwig\\appdata\\local\\programs\\python\\python310\\lib\\site-packages (from pydantic>=2->ydata-profiling==4.8.3->-r ../requirements.txt (line 3)) (2.20.1)\n",
      "Requirement already satisfied: six>=1.5 in c:\\users\\diego gerwig\\appdata\\roaming\\python\\python310\\site-packages (from python-dateutil>=2.8.2->pandas==2.2.2->-r ../requirements.txt (line 2)) (1.16.0)\n",
      "Requirement already satisfied: charset-normalizer<4,>=2 in c:\\users\\diego gerwig\\appdata\\local\\programs\\python\\python310\\lib\\site-packages (from requests<3,>=2.24.0->ydata-profiling==4.8.3->-r ../requirements.txt (line 3)) (3.3.2)\n",
      "Requirement already satisfied: urllib3<3,>=1.21.1 in c:\\users\\diego gerwig\\appdata\\local\\programs\\python\\python310\\lib\\site-packages (from requests<3,>=2.24.0->ydata-profiling==4.8.3->-r ../requirements.txt (line 3)) (2.2.2)\n",
      "Requirement already satisfied: idna<4,>=2.5 in c:\\users\\diego gerwig\\appdata\\local\\programs\\python\\python310\\lib\\site-packages (from requests<3,>=2.24.0->ydata-profiling==4.8.3->-r ../requirements.txt (line 3)) (3.7)\n",
      "Requirement already satisfied: certifi>=2017.4.17 in c:\\users\\diego gerwig\\appdata\\local\\programs\\python\\python310\\lib\\site-packages (from requests<3,>=2.24.0->ydata-profiling==4.8.3->-r ../requirements.txt (line 3)) (2024.7.4)\n",
      "Requirement already satisfied: patsy>=0.5.6 in c:\\users\\diego gerwig\\appdata\\local\\programs\\python\\python310\\lib\\site-packages (from statsmodels<1,>=0.13.2->ydata-profiling==4.8.3->-r ../requirements.txt (line 3)) (0.5.6)\n",
      "Requirement already satisfied: attrs>=19.3.0 in c:\\users\\diego gerwig\\appdata\\local\\programs\\python\\python310\\lib\\site-packages (from visions[type_image_path]<0.7.7,>=0.7.5->ydata-profiling==4.8.3->-r ../requirements.txt (line 3)) (24.2.0)\n",
      "Requirement already satisfied: networkx>=2.4 in c:\\users\\diego gerwig\\appdata\\local\\programs\\python\\python310\\lib\\site-packages (from visions[type_image_path]<0.7.7,>=0.7.5->ydata-profiling==4.8.3->-r ../requirements.txt (line 3)) (3.3)\n",
      "Requirement already satisfied: parso<0.9.0,>=0.8.3 in c:\\users\\diego gerwig\\appdata\\roaming\\python\\python310\\site-packages (from jedi>=0.16->ipython>=6.1.0->ipywidgets==8.1.3->-r ../requirements.txt (line 8)) (0.8.4)\n",
      "Requirement already satisfied: wcwidth in c:\\users\\diego gerwig\\appdata\\roaming\\python\\python310\\site-packages (from prompt-toolkit<3.1.0,>=3.0.41->ipython>=6.1.0->ipywidgets==8.1.3->-r ../requirements.txt (line 8)) (0.2.13)\n",
      "Requirement already satisfied: pure-eval in c:\\users\\diego gerwig\\appdata\\roaming\\python\\python310\\site-packages (from stack-data->ipython>=6.1.0->ipywidgets==8.1.3->-r ../requirements.txt (line 8)) (0.2.3)\n",
      "Requirement already satisfied: executing>=1.2.0 in c:\\users\\diego gerwig\\appdata\\roaming\\python\\python310\\site-packages (from stack-data->ipython>=6.1.0->ipywidgets==8.1.3->-r ../requirements.txt (line 8)) (2.0.1)\n",
      "Requirement already satisfied: asttokens>=2.1.0 in c:\\users\\diego gerwig\\appdata\\roaming\\python\\python310\\site-packages (from stack-data->ipython>=6.1.0->ipywidgets==8.1.3->-r ../requirements.txt (line 8)) (2.4.1)\n",
      "Note: you may need to restart the kernel to use updated packages.\n"
     ]
    },
    {
     "name": "stderr",
     "output_type": "stream",
     "text": [
      "\n",
      "[notice] A new release of pip is available: 23.0.1 -> 24.2\n",
      "[notice] To update, run: python.exe -m pip install --upgrade pip\n"
     ]
    }
   ],
   "source": [
    "%pip install -r ../requirements.txt"
   ]
  },
  {
   "cell_type": "markdown",
   "metadata": {},
   "source": [
    "#### 💪 Training"
   ]
  },
  {
   "cell_type": "code",
   "execution_count": 38,
   "metadata": {},
   "outputs": [],
   "source": [
    "import seaborn as sns\n",
    "import matplotlib.pyplot as plt\n",
    "import pandas as pd\n",
    "\n",
    "from sklearn.model_selection import train_test_split\n",
    "\n",
    "from sklearn.linear_model import LogisticRegression\n",
    "from sklearn.tree import DecisionTreeClassifier\n",
    "from sklearn.svm import SVC\n",
    "from sklearn.neighbors import KNeighborsClassifier\n",
    "from sklearn.naive_bayes import GaussianNB\n",
    "from sklearn.ensemble import RandomForestClassifier, AdaBoostClassifier, GradientBoostingClassifier\n",
    "\n",
    "from sklearn.pipeline import Pipeline\n",
    "from sklearn.preprocessing import MinMaxScaler\n",
    "from sklearn.preprocessing import StandardScaler\n",
    "\n",
    "from sklearn.model_selection import GridSearchCV, RepeatedStratifiedKFold\n",
    "\n",
    "from sklearn.metrics import accuracy_score\n",
    "from sklearn.metrics import classification_report\n",
    "from sklearn.metrics import confusion_matrix\n"
   ]
  },
  {
   "cell_type": "code",
   "execution_count": 39,
   "metadata": {},
   "outputs": [],
   "source": [
    "proc_data_path='../data/processed/road_traffic_accidents_dataset_proc.csv'\n",
    "train_data = pd.read_csv(proc_data_path)\n"
   ]
  },
  {
   "cell_type": "markdown",
   "metadata": {},
   "source": [
    "**Dividimos el dataset en train y test**"
   ]
  },
  {
   "cell_type": "code",
   "execution_count": 40,
   "metadata": {},
   "outputs": [],
   "source": [
    "x = train_data.drop('accident_severity', axis=1)\n",
    "y = train_data['accident_severity']\n",
    "\n",
    "xtrain, xtest, ytrain, ytest = train_test_split(x, y, test_size=0.2, random_state=42)\n"
   ]
  },
  {
   "cell_type": "markdown",
   "metadata": {},
   "source": [
    "**Guardamos los datos de train y test en archivos CSV**"
   ]
  },
  {
   "cell_type": "code",
   "execution_count": 41,
   "metadata": {},
   "outputs": [
    {
     "name": "stdout",
     "output_type": "stream",
     "text": [
      "Train x shape: (9852, 229)\n",
      "Train y shape: (9852,)\n",
      "Test x shape: (2464, 229)\n",
      "Test y shape: (2464,)\n"
     ]
    }
   ],
   "source": [
    "print('Train x shape:', xtrain.shape)\n",
    "print('Train y shape:', ytrain.shape)\n",
    "print('Test x shape:', xtest.shape)\n",
    "print('Test y shape:', ytest.shape)\n",
    "\n",
    "xtrain.to_csv('../data/train/xtrain.csv', index=False)\n",
    "ytrain.to_csv('../data/train/ytrain.csv', index=False)\n",
    "xtest.to_csv('../data/test/xtest.csv', index=False)\n",
    "ytest.to_csv('../data/test/ytest.csv', index=False)\n"
   ]
  },
  {
   "cell_type": "markdown",
   "metadata": {},
   "source": [
    "**Generamos los modelos a emplear**"
   ]
  },
  {
   "cell_type": "code",
   "execution_count": 42,
   "metadata": {},
   "outputs": [],
   "source": [
    "models={\"LogisticRegression\":LogisticRegression(max_iter=1000),\n",
    "        \"DecisionTreeClassifier\":DecisionTreeClassifier(random_state=42),\n",
    "        \"KNeighborsClassifier\":KNeighborsClassifier(n_neighbors=5),\n",
    "        \"RandomForestClassifier\":RandomForestClassifier(n_estimators=200, random_state=42)\n",
    "        }\n"
   ]
  },
  {
   "cell_type": "markdown",
   "metadata": {},
   "source": [
    "**Calculamos la accuracy para cada modelo**"
   ]
  },
  {
   "cell_type": "code",
   "execution_count": 43,
   "metadata": {},
   "outputs": [],
   "source": [
    "def modelAccuracy(models,x,y):\n",
    "    acc_result={}\n",
    "\n",
    "    for name,model in models.items():\n",
    "        #pipeline: 1.StandardScaler -> 2.Model\n",
    "        model_pipeline = Pipeline([('StandardScaler',StandardScaler()),('model',model)])\n",
    "\n",
    "        #training/testing on model pipeline\n",
    "        model_fit = model_pipeline.fit(xtrain,ytrain)\n",
    "        ypred = model_fit.predict(xtest)\n",
    "        acc = accuracy_score(ytest,ypred)\n",
    "\n",
    "        print(\"The Accuracy for {:<25} is: {:>16.13f}\".format(name, acc))\n",
    "        acc_result[name] = acc\n",
    "\n",
    "    return acc_result\n"
   ]
  },
  {
   "cell_type": "code",
   "execution_count": 44,
   "metadata": {},
   "outputs": [
    {
     "name": "stdout",
     "output_type": "stream",
     "text": [
      "The Accuracy for LogisticRegression        is:  0.8368506493506\n",
      "The Accuracy for DecisionTreeClassifier    is:  0.7751623376623\n",
      "The Accuracy for KNeighborsClassifier      is:  0.8364448051948\n",
      "The Accuracy for RandomForestClassifier    is:  0.8429383116883\n"
     ]
    }
   ],
   "source": [
    "acc_result = modelAccuracy(models,x,y)\n"
   ]
  },
  {
   "cell_type": "markdown",
   "metadata": {},
   "source": [
    "**Seleccionamos el modelo con mejor accuracy**"
   ]
  },
  {
   "cell_type": "code",
   "execution_count": 45,
   "metadata": {},
   "outputs": [],
   "source": [
    "def bestModel(result):\n",
    "    high = 0\n",
    "    for name,acc in result.items():\n",
    "        if acc > high:\n",
    "            high = acc\n",
    "            model_name = name\n",
    "    print(\"Best Model is \",model_name,\" with accuaracy =>\",high)"
   ]
  },
  {
   "cell_type": "code",
   "execution_count": 46,
   "metadata": {},
   "outputs": [
    {
     "name": "stdout",
     "output_type": "stream",
     "text": [
      "Best Model is  RandomForestClassifier  with accuaracy => 0.8429383116883117\n"
     ]
    }
   ],
   "source": [
    "bestModel(acc_result)"
   ]
  },
  {
   "cell_type": "markdown",
   "metadata": {},
   "source": [
    "**Identificamos los hiperparámetros óptimos**"
   ]
  },
  {
   "cell_type": "code",
   "execution_count": 47,
   "metadata": {},
   "outputs": [],
   "source": [
    "def bestParams(model,param,xtrain,ytrain):\n",
    "\n",
    "    cv = RepeatedStratifiedKFold(n_splits=5, n_repeats=3, random_state=42)\n",
    "\n",
    "    grid_cv = GridSearchCV(estimator=model, param_grid=param, cv=cv, scoring='accuracy', n_jobs=-1, verbose=1)\n",
    "\n",
    "    res = grid_cv.fit(xtrain,ytrain)\n",
    "    \n",
    "    print(\"Best Parameters are \",res.best_params_)\n",
    "    print(\"Best Accuracy is \",res.best_score_)\n"
   ]
  },
  {
   "cell_type": "code",
   "execution_count": 48,
   "metadata": {},
   "outputs": [
    {
     "name": "stdout",
     "output_type": "stream",
     "text": [
      "Fitting 15 folds for each of 64 candidates, totalling 960 fits\n",
      "Best Parameters are  {'max_depth': 3, 'max_features': 3, 'n_estimators': 25}\n",
      "Best Accuracy is  0.8476451696811894\n"
     ]
    }
   ],
   "source": [
    "model = RandomForestClassifier()\n",
    "\n",
    "params = {\"n_estimators\" : [25,50,100,200],\n",
    "         \"max_features\" : [3,4,5,6],\n",
    "         \"max_depth\": [3,4,5,6]\n",
    "         }\n",
    "         \n",
    "bestParams(model,params,xtrain,ytrain)"
   ]
  },
  {
   "cell_type": "markdown",
   "metadata": {},
   "source": [
    "**Generemos el modelo aplicando los hiperparámetros obtenidos**\n"
   ]
  },
  {
   "cell_type": "code",
   "execution_count": 49,
   "metadata": {},
   "outputs": [
    {
     "data": {
      "text/html": [
       "<style>#sk-container-id-3 {\n",
       "  /* Definition of color scheme common for light and dark mode */\n",
       "  --sklearn-color-text: black;\n",
       "  --sklearn-color-line: gray;\n",
       "  /* Definition of color scheme for unfitted estimators */\n",
       "  --sklearn-color-unfitted-level-0: #fff5e6;\n",
       "  --sklearn-color-unfitted-level-1: #f6e4d2;\n",
       "  --sklearn-color-unfitted-level-2: #ffe0b3;\n",
       "  --sklearn-color-unfitted-level-3: chocolate;\n",
       "  /* Definition of color scheme for fitted estimators */\n",
       "  --sklearn-color-fitted-level-0: #f0f8ff;\n",
       "  --sklearn-color-fitted-level-1: #d4ebff;\n",
       "  --sklearn-color-fitted-level-2: #b3dbfd;\n",
       "  --sklearn-color-fitted-level-3: cornflowerblue;\n",
       "\n",
       "  /* Specific color for light theme */\n",
       "  --sklearn-color-text-on-default-background: var(--sg-text-color, var(--theme-code-foreground, var(--jp-content-font-color1, black)));\n",
       "  --sklearn-color-background: var(--sg-background-color, var(--theme-background, var(--jp-layout-color0, white)));\n",
       "  --sklearn-color-border-box: var(--sg-text-color, var(--theme-code-foreground, var(--jp-content-font-color1, black)));\n",
       "  --sklearn-color-icon: #696969;\n",
       "\n",
       "  @media (prefers-color-scheme: dark) {\n",
       "    /* Redefinition of color scheme for dark theme */\n",
       "    --sklearn-color-text-on-default-background: var(--sg-text-color, var(--theme-code-foreground, var(--jp-content-font-color1, white)));\n",
       "    --sklearn-color-background: var(--sg-background-color, var(--theme-background, var(--jp-layout-color0, #111)));\n",
       "    --sklearn-color-border-box: var(--sg-text-color, var(--theme-code-foreground, var(--jp-content-font-color1, white)));\n",
       "    --sklearn-color-icon: #878787;\n",
       "  }\n",
       "}\n",
       "\n",
       "#sk-container-id-3 {\n",
       "  color: var(--sklearn-color-text);\n",
       "}\n",
       "\n",
       "#sk-container-id-3 pre {\n",
       "  padding: 0;\n",
       "}\n",
       "\n",
       "#sk-container-id-3 input.sk-hidden--visually {\n",
       "  border: 0;\n",
       "  clip: rect(1px 1px 1px 1px);\n",
       "  clip: rect(1px, 1px, 1px, 1px);\n",
       "  height: 1px;\n",
       "  margin: -1px;\n",
       "  overflow: hidden;\n",
       "  padding: 0;\n",
       "  position: absolute;\n",
       "  width: 1px;\n",
       "}\n",
       "\n",
       "#sk-container-id-3 div.sk-dashed-wrapped {\n",
       "  border: 1px dashed var(--sklearn-color-line);\n",
       "  margin: 0 0.4em 0.5em 0.4em;\n",
       "  box-sizing: border-box;\n",
       "  padding-bottom: 0.4em;\n",
       "  background-color: var(--sklearn-color-background);\n",
       "}\n",
       "\n",
       "#sk-container-id-3 div.sk-container {\n",
       "  /* jupyter's `normalize.less` sets `[hidden] { display: none; }`\n",
       "     but bootstrap.min.css set `[hidden] { display: none !important; }`\n",
       "     so we also need the `!important` here to be able to override the\n",
       "     default hidden behavior on the sphinx rendered scikit-learn.org.\n",
       "     See: https://github.com/scikit-learn/scikit-learn/issues/21755 */\n",
       "  display: inline-block !important;\n",
       "  position: relative;\n",
       "}\n",
       "\n",
       "#sk-container-id-3 div.sk-text-repr-fallback {\n",
       "  display: none;\n",
       "}\n",
       "\n",
       "div.sk-parallel-item,\n",
       "div.sk-serial,\n",
       "div.sk-item {\n",
       "  /* draw centered vertical line to link estimators */\n",
       "  background-image: linear-gradient(var(--sklearn-color-text-on-default-background), var(--sklearn-color-text-on-default-background));\n",
       "  background-size: 2px 100%;\n",
       "  background-repeat: no-repeat;\n",
       "  background-position: center center;\n",
       "}\n",
       "\n",
       "/* Parallel-specific style estimator block */\n",
       "\n",
       "#sk-container-id-3 div.sk-parallel-item::after {\n",
       "  content: \"\";\n",
       "  width: 100%;\n",
       "  border-bottom: 2px solid var(--sklearn-color-text-on-default-background);\n",
       "  flex-grow: 1;\n",
       "}\n",
       "\n",
       "#sk-container-id-3 div.sk-parallel {\n",
       "  display: flex;\n",
       "  align-items: stretch;\n",
       "  justify-content: center;\n",
       "  background-color: var(--sklearn-color-background);\n",
       "  position: relative;\n",
       "}\n",
       "\n",
       "#sk-container-id-3 div.sk-parallel-item {\n",
       "  display: flex;\n",
       "  flex-direction: column;\n",
       "}\n",
       "\n",
       "#sk-container-id-3 div.sk-parallel-item:first-child::after {\n",
       "  align-self: flex-end;\n",
       "  width: 50%;\n",
       "}\n",
       "\n",
       "#sk-container-id-3 div.sk-parallel-item:last-child::after {\n",
       "  align-self: flex-start;\n",
       "  width: 50%;\n",
       "}\n",
       "\n",
       "#sk-container-id-3 div.sk-parallel-item:only-child::after {\n",
       "  width: 0;\n",
       "}\n",
       "\n",
       "/* Serial-specific style estimator block */\n",
       "\n",
       "#sk-container-id-3 div.sk-serial {\n",
       "  display: flex;\n",
       "  flex-direction: column;\n",
       "  align-items: center;\n",
       "  background-color: var(--sklearn-color-background);\n",
       "  padding-right: 1em;\n",
       "  padding-left: 1em;\n",
       "}\n",
       "\n",
       "\n",
       "/* Toggleable style: style used for estimator/Pipeline/ColumnTransformer box that is\n",
       "clickable and can be expanded/collapsed.\n",
       "- Pipeline and ColumnTransformer use this feature and define the default style\n",
       "- Estimators will overwrite some part of the style using the `sk-estimator` class\n",
       "*/\n",
       "\n",
       "/* Pipeline and ColumnTransformer style (default) */\n",
       "\n",
       "#sk-container-id-3 div.sk-toggleable {\n",
       "  /* Default theme specific background. It is overwritten whether we have a\n",
       "  specific estimator or a Pipeline/ColumnTransformer */\n",
       "  background-color: var(--sklearn-color-background);\n",
       "}\n",
       "\n",
       "/* Toggleable label */\n",
       "#sk-container-id-3 label.sk-toggleable__label {\n",
       "  cursor: pointer;\n",
       "  display: block;\n",
       "  width: 100%;\n",
       "  margin-bottom: 0;\n",
       "  padding: 0.5em;\n",
       "  box-sizing: border-box;\n",
       "  text-align: center;\n",
       "}\n",
       "\n",
       "#sk-container-id-3 label.sk-toggleable__label-arrow:before {\n",
       "  /* Arrow on the left of the label */\n",
       "  content: \"▸\";\n",
       "  float: left;\n",
       "  margin-right: 0.25em;\n",
       "  color: var(--sklearn-color-icon);\n",
       "}\n",
       "\n",
       "#sk-container-id-3 label.sk-toggleable__label-arrow:hover:before {\n",
       "  color: var(--sklearn-color-text);\n",
       "}\n",
       "\n",
       "/* Toggleable content - dropdown */\n",
       "\n",
       "#sk-container-id-3 div.sk-toggleable__content {\n",
       "  max-height: 0;\n",
       "  max-width: 0;\n",
       "  overflow: hidden;\n",
       "  text-align: left;\n",
       "  /* unfitted */\n",
       "  background-color: var(--sklearn-color-unfitted-level-0);\n",
       "}\n",
       "\n",
       "#sk-container-id-3 div.sk-toggleable__content.fitted {\n",
       "  /* fitted */\n",
       "  background-color: var(--sklearn-color-fitted-level-0);\n",
       "}\n",
       "\n",
       "#sk-container-id-3 div.sk-toggleable__content pre {\n",
       "  margin: 0.2em;\n",
       "  border-radius: 0.25em;\n",
       "  color: var(--sklearn-color-text);\n",
       "  /* unfitted */\n",
       "  background-color: var(--sklearn-color-unfitted-level-0);\n",
       "}\n",
       "\n",
       "#sk-container-id-3 div.sk-toggleable__content.fitted pre {\n",
       "  /* unfitted */\n",
       "  background-color: var(--sklearn-color-fitted-level-0);\n",
       "}\n",
       "\n",
       "#sk-container-id-3 input.sk-toggleable__control:checked~div.sk-toggleable__content {\n",
       "  /* Expand drop-down */\n",
       "  max-height: 200px;\n",
       "  max-width: 100%;\n",
       "  overflow: auto;\n",
       "}\n",
       "\n",
       "#sk-container-id-3 input.sk-toggleable__control:checked~label.sk-toggleable__label-arrow:before {\n",
       "  content: \"▾\";\n",
       "}\n",
       "\n",
       "/* Pipeline/ColumnTransformer-specific style */\n",
       "\n",
       "#sk-container-id-3 div.sk-label input.sk-toggleable__control:checked~label.sk-toggleable__label {\n",
       "  color: var(--sklearn-color-text);\n",
       "  background-color: var(--sklearn-color-unfitted-level-2);\n",
       "}\n",
       "\n",
       "#sk-container-id-3 div.sk-label.fitted input.sk-toggleable__control:checked~label.sk-toggleable__label {\n",
       "  background-color: var(--sklearn-color-fitted-level-2);\n",
       "}\n",
       "\n",
       "/* Estimator-specific style */\n",
       "\n",
       "/* Colorize estimator box */\n",
       "#sk-container-id-3 div.sk-estimator input.sk-toggleable__control:checked~label.sk-toggleable__label {\n",
       "  /* unfitted */\n",
       "  background-color: var(--sklearn-color-unfitted-level-2);\n",
       "}\n",
       "\n",
       "#sk-container-id-3 div.sk-estimator.fitted input.sk-toggleable__control:checked~label.sk-toggleable__label {\n",
       "  /* fitted */\n",
       "  background-color: var(--sklearn-color-fitted-level-2);\n",
       "}\n",
       "\n",
       "#sk-container-id-3 div.sk-label label.sk-toggleable__label,\n",
       "#sk-container-id-3 div.sk-label label {\n",
       "  /* The background is the default theme color */\n",
       "  color: var(--sklearn-color-text-on-default-background);\n",
       "}\n",
       "\n",
       "/* On hover, darken the color of the background */\n",
       "#sk-container-id-3 div.sk-label:hover label.sk-toggleable__label {\n",
       "  color: var(--sklearn-color-text);\n",
       "  background-color: var(--sklearn-color-unfitted-level-2);\n",
       "}\n",
       "\n",
       "/* Label box, darken color on hover, fitted */\n",
       "#sk-container-id-3 div.sk-label.fitted:hover label.sk-toggleable__label.fitted {\n",
       "  color: var(--sklearn-color-text);\n",
       "  background-color: var(--sklearn-color-fitted-level-2);\n",
       "}\n",
       "\n",
       "/* Estimator label */\n",
       "\n",
       "#sk-container-id-3 div.sk-label label {\n",
       "  font-family: monospace;\n",
       "  font-weight: bold;\n",
       "  display: inline-block;\n",
       "  line-height: 1.2em;\n",
       "}\n",
       "\n",
       "#sk-container-id-3 div.sk-label-container {\n",
       "  text-align: center;\n",
       "}\n",
       "\n",
       "/* Estimator-specific */\n",
       "#sk-container-id-3 div.sk-estimator {\n",
       "  font-family: monospace;\n",
       "  border: 1px dotted var(--sklearn-color-border-box);\n",
       "  border-radius: 0.25em;\n",
       "  box-sizing: border-box;\n",
       "  margin-bottom: 0.5em;\n",
       "  /* unfitted */\n",
       "  background-color: var(--sklearn-color-unfitted-level-0);\n",
       "}\n",
       "\n",
       "#sk-container-id-3 div.sk-estimator.fitted {\n",
       "  /* fitted */\n",
       "  background-color: var(--sklearn-color-fitted-level-0);\n",
       "}\n",
       "\n",
       "/* on hover */\n",
       "#sk-container-id-3 div.sk-estimator:hover {\n",
       "  /* unfitted */\n",
       "  background-color: var(--sklearn-color-unfitted-level-2);\n",
       "}\n",
       "\n",
       "#sk-container-id-3 div.sk-estimator.fitted:hover {\n",
       "  /* fitted */\n",
       "  background-color: var(--sklearn-color-fitted-level-2);\n",
       "}\n",
       "\n",
       "/* Specification for estimator info (e.g. \"i\" and \"?\") */\n",
       "\n",
       "/* Common style for \"i\" and \"?\" */\n",
       "\n",
       ".sk-estimator-doc-link,\n",
       "a:link.sk-estimator-doc-link,\n",
       "a:visited.sk-estimator-doc-link {\n",
       "  float: right;\n",
       "  font-size: smaller;\n",
       "  line-height: 1em;\n",
       "  font-family: monospace;\n",
       "  background-color: var(--sklearn-color-background);\n",
       "  border-radius: 1em;\n",
       "  height: 1em;\n",
       "  width: 1em;\n",
       "  text-decoration: none !important;\n",
       "  margin-left: 1ex;\n",
       "  /* unfitted */\n",
       "  border: var(--sklearn-color-unfitted-level-1) 1pt solid;\n",
       "  color: var(--sklearn-color-unfitted-level-1);\n",
       "}\n",
       "\n",
       ".sk-estimator-doc-link.fitted,\n",
       "a:link.sk-estimator-doc-link.fitted,\n",
       "a:visited.sk-estimator-doc-link.fitted {\n",
       "  /* fitted */\n",
       "  border: var(--sklearn-color-fitted-level-1) 1pt solid;\n",
       "  color: var(--sklearn-color-fitted-level-1);\n",
       "}\n",
       "\n",
       "/* On hover */\n",
       "div.sk-estimator:hover .sk-estimator-doc-link:hover,\n",
       ".sk-estimator-doc-link:hover,\n",
       "div.sk-label-container:hover .sk-estimator-doc-link:hover,\n",
       ".sk-estimator-doc-link:hover {\n",
       "  /* unfitted */\n",
       "  background-color: var(--sklearn-color-unfitted-level-3);\n",
       "  color: var(--sklearn-color-background);\n",
       "  text-decoration: none;\n",
       "}\n",
       "\n",
       "div.sk-estimator.fitted:hover .sk-estimator-doc-link.fitted:hover,\n",
       ".sk-estimator-doc-link.fitted:hover,\n",
       "div.sk-label-container:hover .sk-estimator-doc-link.fitted:hover,\n",
       ".sk-estimator-doc-link.fitted:hover {\n",
       "  /* fitted */\n",
       "  background-color: var(--sklearn-color-fitted-level-3);\n",
       "  color: var(--sklearn-color-background);\n",
       "  text-decoration: none;\n",
       "}\n",
       "\n",
       "/* Span, style for the box shown on hovering the info icon */\n",
       ".sk-estimator-doc-link span {\n",
       "  display: none;\n",
       "  z-index: 9999;\n",
       "  position: relative;\n",
       "  font-weight: normal;\n",
       "  right: .2ex;\n",
       "  padding: .5ex;\n",
       "  margin: .5ex;\n",
       "  width: min-content;\n",
       "  min-width: 20ex;\n",
       "  max-width: 50ex;\n",
       "  color: var(--sklearn-color-text);\n",
       "  box-shadow: 2pt 2pt 4pt #999;\n",
       "  /* unfitted */\n",
       "  background: var(--sklearn-color-unfitted-level-0);\n",
       "  border: .5pt solid var(--sklearn-color-unfitted-level-3);\n",
       "}\n",
       "\n",
       ".sk-estimator-doc-link.fitted span {\n",
       "  /* fitted */\n",
       "  background: var(--sklearn-color-fitted-level-0);\n",
       "  border: var(--sklearn-color-fitted-level-3);\n",
       "}\n",
       "\n",
       ".sk-estimator-doc-link:hover span {\n",
       "  display: block;\n",
       "}\n",
       "\n",
       "/* \"?\"-specific style due to the `<a>` HTML tag */\n",
       "\n",
       "#sk-container-id-3 a.estimator_doc_link {\n",
       "  float: right;\n",
       "  font-size: 1rem;\n",
       "  line-height: 1em;\n",
       "  font-family: monospace;\n",
       "  background-color: var(--sklearn-color-background);\n",
       "  border-radius: 1rem;\n",
       "  height: 1rem;\n",
       "  width: 1rem;\n",
       "  text-decoration: none;\n",
       "  /* unfitted */\n",
       "  color: var(--sklearn-color-unfitted-level-1);\n",
       "  border: var(--sklearn-color-unfitted-level-1) 1pt solid;\n",
       "}\n",
       "\n",
       "#sk-container-id-3 a.estimator_doc_link.fitted {\n",
       "  /* fitted */\n",
       "  border: var(--sklearn-color-fitted-level-1) 1pt solid;\n",
       "  color: var(--sklearn-color-fitted-level-1);\n",
       "}\n",
       "\n",
       "/* On hover */\n",
       "#sk-container-id-3 a.estimator_doc_link:hover {\n",
       "  /* unfitted */\n",
       "  background-color: var(--sklearn-color-unfitted-level-3);\n",
       "  color: var(--sklearn-color-background);\n",
       "  text-decoration: none;\n",
       "}\n",
       "\n",
       "#sk-container-id-3 a.estimator_doc_link.fitted:hover {\n",
       "  /* fitted */\n",
       "  background-color: var(--sklearn-color-fitted-level-3);\n",
       "}\n",
       "</style><div id=\"sk-container-id-3\" class=\"sk-top-container\"><div class=\"sk-text-repr-fallback\"><pre>RandomForestClassifier(class_weight=&#x27;balanced&#x27;, max_depth=5, max_features=5,\n",
       "                       n_estimators=200)</pre><b>In a Jupyter environment, please rerun this cell to show the HTML representation or trust the notebook. <br />On GitHub, the HTML representation is unable to render, please try loading this page with nbviewer.org.</b></div><div class=\"sk-container\" hidden><div class=\"sk-item\"><div class=\"sk-estimator fitted sk-toggleable\"><input class=\"sk-toggleable__control sk-hidden--visually\" id=\"sk-estimator-id-3\" type=\"checkbox\" checked><label for=\"sk-estimator-id-3\" class=\"sk-toggleable__label fitted sk-toggleable__label-arrow fitted\">&nbsp;&nbsp;RandomForestClassifier<a class=\"sk-estimator-doc-link fitted\" rel=\"noreferrer\" target=\"_blank\" href=\"https://scikit-learn.org/1.5/modules/generated/sklearn.ensemble.RandomForestClassifier.html\">?<span>Documentation for RandomForestClassifier</span></a><span class=\"sk-estimator-doc-link fitted\">i<span>Fitted</span></span></label><div class=\"sk-toggleable__content fitted\"><pre>RandomForestClassifier(class_weight=&#x27;balanced&#x27;, max_depth=5, max_features=5,\n",
       "                       n_estimators=200)</pre></div> </div></div></div></div>"
      ],
      "text/plain": [
       "RandomForestClassifier(class_weight='balanced', max_depth=5, max_features=5,\n",
       "                       n_estimators=200)"
      ]
     },
     "execution_count": 49,
     "metadata": {},
     "output_type": "execute_result"
    }
   ],
   "source": [
    "model = RandomForestClassifier(max_depth=5, max_features=5, n_estimators=200, class_weight='balanced')\n",
    "\n",
    "model.fit(xtrain,ytrain)\n"
   ]
  },
  {
   "cell_type": "markdown",
   "metadata": {},
   "source": [
    "**Exportamos el modelo generado**"
   ]
  },
  {
   "cell_type": "code",
   "execution_count": 50,
   "metadata": {},
   "outputs": [],
   "source": [
    "import pickle\n",
    "pickle.dump(model,open(\"../models/road_traffic_accidents_model.pkl\",\"wb\"))\n"
   ]
  },
  {
   "cell_type": "markdown",
   "metadata": {},
   "source": [
    "#### 📯 Predict"
   ]
  },
  {
   "cell_type": "code",
   "execution_count": 51,
   "metadata": {},
   "outputs": [
    {
     "name": "stdout",
     "output_type": "stream",
     "text": [
      "Accuracy of the model is  0.653814935064935\n"
     ]
    }
   ],
   "source": [
    "ypred = model.predict(xtest)\n",
    "\n",
    "print(\"Accuracy of the model is \",accuracy_score(ytest,ypred))\n"
   ]
  },
  {
   "cell_type": "markdown",
   "metadata": {},
   "source": [
    "**Generamos el Classification Report**"
   ]
  },
  {
   "cell_type": "code",
   "execution_count": 52,
   "metadata": {},
   "outputs": [
    {
     "name": "stdout",
     "output_type": "stream",
     "text": [
      "Accuracy: 0.653814935064935\n",
      "\n",
      "Classification Report:\n",
      "              precision    recall  f1-score   support\n",
      "\n",
      "           0       0.08      0.49      0.13        37\n",
      "           1       0.22      0.32      0.26       363\n",
      "           2       0.87      0.72      0.79      2064\n",
      "\n",
      "    accuracy                           0.65      2464\n",
      "   macro avg       0.39      0.51      0.39      2464\n",
      "weighted avg       0.76      0.65      0.70      2464\n",
      "\n"
     ]
    }
   ],
   "source": [
    "print(\"Accuracy:\", accuracy_score(ytest, ypred))\n",
    "\n",
    "print(\"\\nClassification Report:\")\n",
    "print(classification_report(ytest, ypred, zero_division=0))\n"
   ]
  },
  {
   "cell_type": "markdown",
   "metadata": {},
   "source": [
    "**Generamos la Matriz de Confusión**"
   ]
  },
  {
   "cell_type": "code",
   "execution_count": 53,
   "metadata": {},
   "outputs": [
    {
     "name": "stdout",
     "output_type": "stream",
     "text": [
      "\n",
      "Confusion Matrix:\n",
      "[[  18   12    7]\n",
      " [  35  116  212]\n",
      " [ 182  405 1477]]\n"
     ]
    },
    {
     "data": {
      "image/png": "[encoded data removed]",
      "text/plain": [
       "<Figure size 1000x700 with 2 Axes>"
      ]
     },
     "metadata": {},
     "output_type": "display_data"
    },
    {
     "data": {
      "image/png": "[encoded data removed]",
      "text/plain": [
       "<Figure size 1000x700 with 2 Axes>"
      ]
     },
     "metadata": {},
     "output_type": "display_data"
    }
   ],
   "source": [
    "\n",
    "c_matrix = confusion_matrix(ytest, ypred)\n",
    "print(\"\\nConfusion Matrix:\")\n",
    "print(c_matrix)\n",
    "\n",
    "plt.figure(figsize=(10, 7))\n",
    "sns.heatmap(c_matrix, annot=True, fmt='d', cmap='Blues', xticklabels=['Fatal Injury', 'Serious Injury', 'Slight Injury'], yticklabels=['Fatal Injury', 'Serious Injury', 'Slight Injury'])\n",
    "plt.xlabel('Predicted Labels')\n",
    "plt.ylabel('True Labels')\n",
    "plt.title('Confusion Matrix')\n",
    "plt.show()\n",
    "\n",
    "plt.figure(figsize=(10, 7))\n",
    "sns.heatmap(confusion_matrix(ytest, ypred, normalize='true'), annot=True, fmt='.2%', cmap='Blues', xticklabels=['Fatal Injury', 'Serious Injury', 'Slight Injury'], yticklabels=['Fatal Injury', 'Serious Injury', 'Slight Injury'])\n",
    "plt.xlabel('Predicted Labels')\n",
    "plt.ylabel('True Labels')\n",
    "plt.title('Confusion Matrix')\n",
    "plt.show()"
   ]
  },
  {
   "cell_type": "markdown",
   "metadata": {},
   "source": [
    "**Visualizamos las features más relevantes**"
   ]
  },
  {
   "cell_type": "code",
   "execution_count": 54,
   "metadata": {},
   "outputs": [
    {
     "name": "stdout",
     "output_type": "stream",
     "text": [
      "\n",
      "Feature Importances:\n",
      "                               feature  importance\n",
      "159             number_of_casualties_4    0.072383\n",
      "156             number_of_casualties_1    0.034877\n",
      "150      number_of_vehicles_involved_1    0.026119\n",
      "113         types_of_junction_crossing    0.023590\n",
      "21                             time_21    0.022813\n",
      "35          age_band_of_driver_unknown    0.019687\n",
      "114      types_of_junction_no junction    0.018560\n",
      "26                day_of_week_saturday    0.017020\n",
      "218  cause_of_accident_moving backward    0.015835\n",
      "151      number_of_vehicles_involved_2    0.015759\n"
     ]
    },
    {
     "data": {
      "image/png": "[encoded data removed]",
      "text/plain": [
       "<Figure size 640x480 with 1 Axes>"
      ]
     },
     "metadata": {},
     "output_type": "display_data"
    }
   ],
   "source": [
    "feature_importances = model.feature_importances_\n",
    "feature_names = x.columns\n",
    "feature_importances_df = pd.DataFrame({'feature': feature_names, 'importance': feature_importances})\n",
    "feature_importances_df = feature_importances_df.sort_values('importance', ascending=False)\n",
    "print(\"\\nFeature Importances:\")\n",
    "print(feature_importances_df.head(10))\n",
    "\n",
    "sns.barplot(x='importance', y='feature', data=feature_importances_df.head(10), hue='feature');\n"
   ]
  }
 ],
 "metadata": {
  "kernelspec": {
   "display_name": "Python 3",
   "language": "python",
   "name": "python3"
  },
  "language_info": {
   "codemirror_mode": {
    "name": "ipython",
    "version": 3
   },
   "file_extension": ".py",
   "mimetype": "text/x-python",
   "name": "python",
   "nbconvert_exporter": "python",
   "pygments_lexer": "ipython3",
   "version": "3.10.11"
  }
 },
 "nbformat": 4,
 "nbformat_minor": 2
}
