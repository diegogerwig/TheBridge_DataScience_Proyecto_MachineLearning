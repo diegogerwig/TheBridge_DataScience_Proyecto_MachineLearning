{
 "cells": [
  {
   "cell_type": "markdown",
   "metadata": {},
   "source": [
    "<div class=\"alert alert-block alert-success\">\n",
    "<h3>Conclusiones</h3>\n",
    "</div>"
   ]
  },
  {
   "cell_type": "code",
   "execution_count": null,
   "metadata": {},
   "outputs": [],
   "source": [
    "%pip install -r ../requirements.txt"
   ]
  },
  {
   "cell_type": "code",
   "execution_count": null,
   "metadata": {},
   "outputs": [],
   "source": [
    "import pandas as pd\n",
    "import matplotlib.pyplot as plt\n",
    "import seaborn as sns\n"
   ]
  },
  {
   "cell_type": "code",
   "execution_count": null,
   "metadata": {},
   "outputs": [],
   "source": [
    "raw_data_path='../data/raw/road_traffic_accidents_dataset.csv'\n",
    "raw_data = pd.read_csv(raw_data_path)\n"
   ]
  },
  {
   "cell_type": "markdown",
   "metadata": {},
   "source": [
    "<div class=\"alert alert-block alert-danger\">\n",
    "<h5>Lesividad por SEXO</h5>\n",
    "</div>"
   ]
  },
  {
   "cell_type": "code",
   "execution_count": null,
   "metadata": {},
   "outputs": [],
   "source": [
    "survey = 'Sex_of_driver'\n",
    "\n",
    "table = pd.crosstab(\n",
    "    index=raw_data[survey].loc[raw_data[survey] != \"Unknown\"],\n",
    "    columns=raw_data['Accident_severity'],\n",
    "    margins=True\n",
    ")\n",
    "\n",
    "rows_list = []\n",
    "\n",
    "for severity in table.columns[:-1]:\n",
    "    for data_survey in table.index[:-1]:\n",
    "        if table.loc[data_survey, 'All'] > 0:\n",
    "            prob = table.loc[data_survey, severity] / table.loc[data_survey, 'All']\n",
    "        else:\n",
    "            prob = 0\n",
    "        \n",
    "        new_row = pd.DataFrame({\n",
    "            survey: [data_survey],\n",
    "            'Accident_severity': [severity],\n",
    "            'Probability': [prob]\n",
    "        })\n",
    "\n",
    "        rows_list.append(new_row)  \n",
    "        \n",
    "probabilities = pd.concat(rows_list, ignore_index=True)\n",
    "\n",
    "print(probabilities)\n",
    "\n",
    "print()\n",
    "\n",
    "print(table)\n",
    "\n",
    "plt.figure(figsize=(12, 6))\n",
    "\n",
    "sns.barplot(x='Accident_severity', y='Probability', hue=survey, data=probabilities)\n",
    "\n",
    "plt.title(f'Probabilidad de Severidad del Accidente por {survey}')\n",
    "plt.ylabel('Probabilidad')\n",
    "plt.xlabel('Severidad del Accidente')\n",
    "plt.legend(title=survey)\n",
    "plt.show()\n"
   ]
  },
  {
   "cell_type": "markdown",
   "metadata": {},
   "source": [
    "<div class=\"alert alert-block alert-info\">\n",
    "<p>El sexo no influye en el número de accidentes</p>\n",
    "</div>"
   ]
  },
  {
   "cell_type": "markdown",
   "metadata": {},
   "source": [
    "---\n",
    "---"
   ]
  },
  {
   "cell_type": "markdown",
   "metadata": {},
   "source": [
    "<div class=\"alert alert-block alert-danger\">\n",
    "<h5>Lesividad por RANGO DE EDAD</h5>\n",
    "</div>"
   ]
  },
  {
   "cell_type": "code",
   "execution_count": null,
   "metadata": {},
   "outputs": [],
   "source": [
    "survey = 'Age_band_of_driver'\n",
    "\n",
    "table = pd.crosstab(\n",
    "    index=raw_data[survey].loc[raw_data[survey] != \"Unknown\"],\n",
    "    columns=raw_data['Accident_severity'],\n",
    "    margins=True\n",
    ")\n",
    "\n",
    "rows_list = []\n",
    "\n",
    "for severity in table.columns[:-1]:\n",
    "    for data_survey in table.index[:-1]:\n",
    "        if table.loc[data_survey, 'All'] > 0:\n",
    "            prob = table.loc[data_survey, severity] / table.loc[data_survey, 'All']\n",
    "        else:\n",
    "            prob = 0\n",
    "        \n",
    "        new_row = pd.DataFrame({\n",
    "            survey: [data_survey],\n",
    "            'Accident_severity': [severity],\n",
    "            'Probability': [prob]\n",
    "        })\n",
    "\n",
    "        rows_list.append(new_row)  \n",
    "        \n",
    "probabilities = pd.concat(rows_list, ignore_index=True)\n",
    "\n",
    "print(probabilities)\n",
    "\n",
    "print()\n",
    "\n",
    "print(table)\n",
    "\n",
    "plt.figure(figsize=(12, 6))\n",
    "\n",
    "sns.barplot(x='Accident_severity', y='Probability', hue=survey, data=probabilities)\n",
    "\n",
    "plt.title(f'Probabilidad de Severidad del Accidente por {survey}')\n",
    "plt.ylabel('Probabilidad')\n",
    "plt.xlabel('Severidad del Accidente')\n",
    "plt.legend(title=survey)\n",
    "plt.show()\n"
   ]
  },
  {
   "cell_type": "markdown",
   "metadata": {},
   "source": [
    "<div class=\"alert alert-block alert-info\">\n",
    "<p>La edad influye negativamente en la gravedad de las lesiones</p>\n",
    "</div>"
   ]
  },
  {
   "cell_type": "markdown",
   "metadata": {},
   "source": [
    "---\n",
    "---"
   ]
  },
  {
   "cell_type": "markdown",
   "metadata": {},
   "source": [
    "<div class=\"alert alert-block alert-danger\">\n",
    "<h5>Siniestralidad por NIVEL EDUCATIVO</h5>\n",
    "</div>"
   ]
  },
  {
   "cell_type": "code",
   "execution_count": null,
   "metadata": {},
   "outputs": [],
   "source": [
    "survey = 'Educational_level'\n",
    "\n",
    "table = pd.crosstab(\n",
    "    index=raw_data[survey].loc[raw_data[survey] != \"Unknown\"],\n",
    "    columns=raw_data['Accident_severity'],\n",
    "    margins=True\n",
    ")\n",
    "\n",
    "rows_list = []\n",
    "\n",
    "for severity in table.columns[:-1]:\n",
    "    for data_survey in table.index[:-1]:\n",
    "        if table.loc[data_survey, 'All'] > 0:\n",
    "            prob = table.loc[data_survey, severity] / table.loc[data_survey, 'All']\n",
    "        else:\n",
    "            prob = 0\n",
    "        \n",
    "        new_row = pd.DataFrame({\n",
    "            survey: [data_survey],\n",
    "            'Accident_severity': [severity],\n",
    "            'Probability': [prob]\n",
    "        })\n",
    "\n",
    "        rows_list.append(new_row)  \n",
    "        \n",
    "probabilities = pd.concat(rows_list, ignore_index=True)\n",
    "\n",
    "print(probabilities)\n",
    "\n",
    "print()\n",
    "\n",
    "print(table)\n",
    "\n",
    "plt.figure(figsize=(12, 6))\n",
    "\n",
    "sns.barplot(x='Accident_severity', y='Probability', hue=survey, data=probabilities)\n",
    "\n",
    "plt.title(f'Probabilidad de Severidad del Accidente por {survey}')\n",
    "plt.ylabel('Probabilidad')\n",
    "plt.xlabel('Severidad del Accidente')\n",
    "plt.legend(title=survey)\n",
    "plt.show()"
   ]
  },
  {
   "cell_type": "code",
   "execution_count": null,
   "metadata": {},
   "outputs": [],
   "source": [
    "table = pd.crosstab(index=raw_data[survey].loc[raw_data[survey] != \"Unknown\"], columns='Count')\n",
    "\n",
    "total_accidents = table['Count'].sum()\n",
    "\n",
    "table['Percentage'] = (table['Count'] / total_accidents) * 100\n",
    "\n",
    "table = table.reset_index()\n",
    "\n",
    "table.columns = [survey, 'Number_of_Accidents', 'Percentage']\n",
    "\n",
    "print(table)\n",
    "\n",
    "plt.figure(figsize=(12, 6))\n",
    "sns.barplot(x=survey, y='Percentage', data=table, errorbar=None, hue=survey)\n",
    "\n",
    "plt.title(f'Porcentaje de Accidentes por {survey}')\n",
    "plt.ylabel('Porcentaje de Accidentes')\n",
    "plt.xlabel(survey)\n",
    "plt.xticks(rotation=45)\n",
    "plt.show()"
   ]
  },
  {
   "cell_type": "markdown",
   "metadata": {},
   "source": [
    "<div class=\"alert alert-block alert-info\">\n",
    "<p>El nivel educativo no influye en el número de accidentes</p>\n",
    "</div>"
   ]
  }
 ],
 "metadata": {
  "kernelspec": {
   "display_name": "Python 3",
   "language": "python",
   "name": "python3"
  },
  "language_info": {
   "codemirror_mode": {
    "name": "ipython",
    "version": 3
   },
   "file_extension": ".py",
   "mimetype": "text/x-python",
   "name": "python",
   "nbconvert_exporter": "python",
   "pygments_lexer": "ipython3",
   "version": "3.10.11"
  }
 },
 "nbformat": 4,
 "nbformat_minor": 2
}
