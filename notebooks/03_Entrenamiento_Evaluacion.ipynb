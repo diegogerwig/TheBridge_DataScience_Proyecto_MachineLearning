{
 "cells": [
  {
   "cell_type": "markdown",
   "metadata": {},
   "source": [
    "### Entranamiento / Evaluación"
   ]
  },
  {
   "cell_type": "code",
   "execution_count": 1,
   "metadata": {},
   "outputs": [
    {
     "name": "stdout",
     "output_type": "stream",
     "text": [
      "Requirement already satisfied: numpy>=1.23.2 in c:\\users\\diego gerwig\\appdata\\local\\programs\\python\\python310\\lib\\site-packages (from -r ../requirements.txt (line 1)) (1.26.4)\n",
      "Requirement already satisfied: pandas==2.2.2 in c:\\users\\diego gerwig\\appdata\\local\\programs\\python\\python310\\lib\\site-packages (from -r ../requirements.txt (line 2)) (2.2.2)\n",
      "Requirement already satisfied: ydata-profiling==4.8.3 in c:\\users\\diego gerwig\\appdata\\local\\programs\\python\\python310\\lib\\site-packages (from -r ../requirements.txt (line 3)) (4.8.3)\n",
      "Requirement already satisfied: joblib==1.4.2 in c:\\users\\diego gerwig\\appdata\\local\\programs\\python\\python310\\lib\\site-packages (from -r ../requirements.txt (line 4)) (1.4.2)\n",
      "Requirement already satisfied: scikit-learn in c:\\users\\diego gerwig\\appdata\\local\\programs\\python\\python310\\lib\\site-packages (from -r ../requirements.txt (line 5)) (1.5.1)\n",
      "Requirement already satisfied: seaborn in c:\\users\\diego gerwig\\appdata\\local\\programs\\python\\python310\\lib\\site-packages (from -r ../requirements.txt (line 6)) (0.13.2)\n",
      "Requirement already satisfied: ipywidgets in c:\\users\\diego gerwig\\appdata\\local\\programs\\python\\python310\\lib\\site-packages (from -r ../requirements.txt (line 7)) (8.1.3)\n",
      "Requirement already satisfied: tzdata>=2022.7 in c:\\users\\diego gerwig\\appdata\\local\\programs\\python\\python310\\lib\\site-packages (from pandas==2.2.2->-r ../requirements.txt (line 2)) (2024.1)\n",
      "Requirement already satisfied: pytz>=2020.1 in c:\\users\\diego gerwig\\appdata\\local\\programs\\python\\python310\\lib\\site-packages (from pandas==2.2.2->-r ../requirements.txt (line 2)) (2024.1)\n",
      "Requirement already satisfied: python-dateutil>=2.8.2 in c:\\users\\diego gerwig\\appdata\\roaming\\python\\python310\\site-packages (from pandas==2.2.2->-r ../requirements.txt (line 2)) (2.9.0.post0)\n",
      "Requirement already satisfied: jinja2<3.2,>=2.11.1 in c:\\users\\diego gerwig\\appdata\\local\\programs\\python\\python310\\lib\\site-packages (from ydata-profiling==4.8.3->-r ../requirements.txt (line 3)) (3.1.4)\n",
      "Requirement already satisfied: dacite>=1.8 in c:\\users\\diego gerwig\\appdata\\local\\programs\\python\\python310\\lib\\site-packages (from ydata-profiling==4.8.3->-r ../requirements.txt (line 3)) (1.8.1)\n",
      "Requirement already satisfied: htmlmin==0.1.12 in c:\\users\\diego gerwig\\appdata\\local\\programs\\python\\python310\\lib\\site-packages (from ydata-profiling==4.8.3->-r ../requirements.txt (line 3)) (0.1.12)\n",
      "Requirement already satisfied: matplotlib<3.9,>=3.2 in c:\\users\\diego gerwig\\appdata\\local\\programs\\python\\python310\\lib\\site-packages (from ydata-profiling==4.8.3->-r ../requirements.txt (line 3)) (3.8.4)\n",
      "Requirement already satisfied: tqdm<5,>=4.48.2 in c:\\users\\diego gerwig\\appdata\\local\\programs\\python\\python310\\lib\\site-packages (from ydata-profiling==4.8.3->-r ../requirements.txt (line 3)) (4.66.5)\n",
      "Requirement already satisfied: requests<3,>=2.24.0 in c:\\users\\diego gerwig\\appdata\\local\\programs\\python\\python310\\lib\\site-packages (from ydata-profiling==4.8.3->-r ../requirements.txt (line 3)) (2.32.3)\n",
      "Requirement already satisfied: statsmodels<1,>=0.13.2 in c:\\users\\diego gerwig\\appdata\\local\\programs\\python\\python310\\lib\\site-packages (from ydata-profiling==4.8.3->-r ../requirements.txt (line 3)) (0.14.2)\n",
      "Requirement already satisfied: wordcloud>=1.9.1 in c:\\users\\diego gerwig\\appdata\\local\\programs\\python\\python310\\lib\\site-packages (from ydata-profiling==4.8.3->-r ../requirements.txt (line 3)) (1.9.3)\n",
      "Requirement already satisfied: phik<0.13,>=0.11.1 in c:\\users\\diego gerwig\\appdata\\local\\programs\\python\\python310\\lib\\site-packages (from ydata-profiling==4.8.3->-r ../requirements.txt (line 3)) (0.12.4)\n",
      "Requirement already satisfied: typeguard<5,>=3 in c:\\users\\diego gerwig\\appdata\\local\\programs\\python\\python310\\lib\\site-packages (from ydata-profiling==4.8.3->-r ../requirements.txt (line 3)) (4.3.0)\n",
      "Requirement already satisfied: imagehash==4.3.1 in c:\\users\\diego gerwig\\appdata\\local\\programs\\python\\python310\\lib\\site-packages (from ydata-profiling==4.8.3->-r ../requirements.txt (line 3)) (4.3.1)\n",
      "Requirement already satisfied: scipy<1.14,>=1.4.1 in c:\\users\\diego gerwig\\appdata\\local\\programs\\python\\python310\\lib\\site-packages (from ydata-profiling==4.8.3->-r ../requirements.txt (line 3)) (1.13.1)\n",
      "Requirement already satisfied: multimethod<2,>=1.4 in c:\\users\\diego gerwig\\appdata\\local\\programs\\python\\python310\\lib\\site-packages (from ydata-profiling==4.8.3->-r ../requirements.txt (line 3)) (1.12)\n",
      "Requirement already satisfied: PyYAML<6.1,>=5.0.0 in c:\\users\\diego gerwig\\appdata\\local\\programs\\python\\python310\\lib\\site-packages (from ydata-profiling==4.8.3->-r ../requirements.txt (line 3)) (6.0.2)\n",
      "Requirement already satisfied: visions[type_image_path]<0.7.7,>=0.7.5 in c:\\users\\diego gerwig\\appdata\\local\\programs\\python\\python310\\lib\\site-packages (from ydata-profiling==4.8.3->-r ../requirements.txt (line 3)) (0.7.6)\n",
      "Requirement already satisfied: numba<1,>=0.56.0 in c:\\users\\diego gerwig\\appdata\\local\\programs\\python\\python310\\lib\\site-packages (from ydata-profiling==4.8.3->-r ../requirements.txt (line 3)) (0.60.0)\n",
      "Requirement already satisfied: pydantic>=2 in c:\\users\\diego gerwig\\appdata\\local\\programs\\python\\python310\\lib\\site-packages (from ydata-profiling==4.8.3->-r ../requirements.txt (line 3)) (2.8.2)\n",
      "Requirement already satisfied: PyWavelets in c:\\users\\diego gerwig\\appdata\\local\\programs\\python\\python310\\lib\\site-packages (from imagehash==4.3.1->ydata-profiling==4.8.3->-r ../requirements.txt (line 3)) (1.7.0)\n",
      "Requirement already satisfied: pillow in c:\\users\\diego gerwig\\appdata\\local\\programs\\python\\python310\\lib\\site-packages (from imagehash==4.3.1->ydata-profiling==4.8.3->-r ../requirements.txt (line 3)) (10.4.0)\n",
      "Requirement already satisfied: threadpoolctl>=3.1.0 in c:\\users\\diego gerwig\\appdata\\local\\programs\\python\\python310\\lib\\site-packages (from scikit-learn->-r ../requirements.txt (line 5)) (3.5.0)\n",
      "Requirement already satisfied: traitlets>=4.3.1 in c:\\users\\diego gerwig\\appdata\\roaming\\python\\python310\\site-packages (from ipywidgets->-r ../requirements.txt (line 7)) (5.14.3)\n",
      "Requirement already satisfied: jupyterlab-widgets~=3.0.11 in c:\\users\\diego gerwig\\appdata\\local\\programs\\python\\python310\\lib\\site-packages (from ipywidgets->-r ../requirements.txt (line 7)) (3.0.11)\n",
      "Requirement already satisfied: ipython>=6.1.0 in c:\\users\\diego gerwig\\appdata\\roaming\\python\\python310\\site-packages (from ipywidgets->-r ../requirements.txt (line 7)) (8.26.0)\n",
      "Requirement already satisfied: comm>=0.1.3 in c:\\users\\diego gerwig\\appdata\\roaming\\python\\python310\\site-packages (from ipywidgets->-r ../requirements.txt (line 7)) (0.2.2)\n",
      "Requirement already satisfied: widgetsnbextension~=4.0.11 in c:\\users\\diego gerwig\\appdata\\local\\programs\\python\\python310\\lib\\site-packages (from ipywidgets->-r ../requirements.txt (line 7)) (4.0.11)\n",
      "Requirement already satisfied: matplotlib-inline in c:\\users\\diego gerwig\\appdata\\roaming\\python\\python310\\site-packages (from ipython>=6.1.0->ipywidgets->-r ../requirements.txt (line 7)) (0.1.7)\n",
      "Requirement already satisfied: typing-extensions>=4.6 in c:\\users\\diego gerwig\\appdata\\roaming\\python\\python310\\site-packages (from ipython>=6.1.0->ipywidgets->-r ../requirements.txt (line 7)) (4.12.2)\n",
      "Requirement already satisfied: exceptiongroup in c:\\users\\diego gerwig\\appdata\\roaming\\python\\python310\\site-packages (from ipython>=6.1.0->ipywidgets->-r ../requirements.txt (line 7)) (1.2.2)\n",
      "Requirement already satisfied: decorator in c:\\users\\diego gerwig\\appdata\\roaming\\python\\python310\\site-packages (from ipython>=6.1.0->ipywidgets->-r ../requirements.txt (line 7)) (5.1.1)\n",
      "Requirement already satisfied: stack-data in c:\\users\\diego gerwig\\appdata\\roaming\\python\\python310\\site-packages (from ipython>=6.1.0->ipywidgets->-r ../requirements.txt (line 7)) (0.6.3)\n",
      "Requirement already satisfied: jedi>=0.16 in c:\\users\\diego gerwig\\appdata\\roaming\\python\\python310\\site-packages (from ipython>=6.1.0->ipywidgets->-r ../requirements.txt (line 7)) (0.19.1)\n",
      "Requirement already satisfied: prompt-toolkit<3.1.0,>=3.0.41 in c:\\users\\diego gerwig\\appdata\\roaming\\python\\python310\\site-packages (from ipython>=6.1.0->ipywidgets->-r ../requirements.txt (line 7)) (3.0.47)\n",
      "Requirement already satisfied: colorama in c:\\users\\diego gerwig\\appdata\\roaming\\python\\python310\\site-packages (from ipython>=6.1.0->ipywidgets->-r ../requirements.txt (line 7)) (0.4.6)\n",
      "Requirement already satisfied: pygments>=2.4.0 in c:\\users\\diego gerwig\\appdata\\roaming\\python\\python310\\site-packages (from ipython>=6.1.0->ipywidgets->-r ../requirements.txt (line 7)) (2.18.0)\n",
      "Requirement already satisfied: MarkupSafe>=2.0 in c:\\users\\diego gerwig\\appdata\\local\\programs\\python\\python310\\lib\\site-packages (from jinja2<3.2,>=2.11.1->ydata-profiling==4.8.3->-r ../requirements.txt (line 3)) (2.1.5)\n",
      "Requirement already satisfied: fonttools>=4.22.0 in c:\\users\\diego gerwig\\appdata\\local\\programs\\python\\python310\\lib\\site-packages (from matplotlib<3.9,>=3.2->ydata-profiling==4.8.3->-r ../requirements.txt (line 3)) (4.53.1)\n",
      "Requirement already satisfied: pyparsing>=2.3.1 in c:\\users\\diego gerwig\\appdata\\local\\programs\\python\\python310\\lib\\site-packages (from matplotlib<3.9,>=3.2->ydata-profiling==4.8.3->-r ../requirements.txt (line 3)) (3.1.2)\n",
      "Requirement already satisfied: kiwisolver>=1.3.1 in c:\\users\\diego gerwig\\appdata\\local\\programs\\python\\python310\\lib\\site-packages (from matplotlib<3.9,>=3.2->ydata-profiling==4.8.3->-r ../requirements.txt (line 3)) (1.4.5)\n",
      "Requirement already satisfied: contourpy>=1.0.1 in c:\\users\\diego gerwig\\appdata\\local\\programs\\python\\python310\\lib\\site-packages (from matplotlib<3.9,>=3.2->ydata-profiling==4.8.3->-r ../requirements.txt (line 3)) (1.2.1)\n",
      "Requirement already satisfied: cycler>=0.10 in c:\\users\\diego gerwig\\appdata\\local\\programs\\python\\python310\\lib\\site-packages (from matplotlib<3.9,>=3.2->ydata-profiling==4.8.3->-r ../requirements.txt (line 3)) (0.12.1)\n",
      "Requirement already satisfied: packaging>=20.0 in c:\\users\\diego gerwig\\appdata\\roaming\\python\\python310\\site-packages (from matplotlib<3.9,>=3.2->ydata-profiling==4.8.3->-r ../requirements.txt (line 3)) (24.1)\n",
      "Requirement already satisfied: llvmlite<0.44,>=0.43.0dev0 in c:\\users\\diego gerwig\\appdata\\local\\programs\\python\\python310\\lib\\site-packages (from numba<1,>=0.56.0->ydata-profiling==4.8.3->-r ../requirements.txt (line 3)) (0.43.0)\n",
      "Requirement already satisfied: pydantic-core==2.20.1 in c:\\users\\diego gerwig\\appdata\\local\\programs\\python\\python310\\lib\\site-packages (from pydantic>=2->ydata-profiling==4.8.3->-r ../requirements.txt (line 3)) (2.20.1)\n",
      "Requirement already satisfied: annotated-types>=0.4.0 in c:\\users\\diego gerwig\\appdata\\local\\programs\\python\\python310\\lib\\site-packages (from pydantic>=2->ydata-profiling==4.8.3->-r ../requirements.txt (line 3)) (0.7.0)\n",
      "Requirement already satisfied: six>=1.5 in c:\\users\\diego gerwig\\appdata\\roaming\\python\\python310\\site-packages (from python-dateutil>=2.8.2->pandas==2.2.2->-r ../requirements.txt (line 2)) (1.16.0)\n",
      "Requirement already satisfied: certifi>=2017.4.17 in c:\\users\\diego gerwig\\appdata\\local\\programs\\python\\python310\\lib\\site-packages (from requests<3,>=2.24.0->ydata-profiling==4.8.3->-r ../requirements.txt (line 3)) (2024.7.4)\n",
      "Requirement already satisfied: urllib3<3,>=1.21.1 in c:\\users\\diego gerwig\\appdata\\local\\programs\\python\\python310\\lib\\site-packages (from requests<3,>=2.24.0->ydata-profiling==4.8.3->-r ../requirements.txt (line 3)) (2.2.2)\n",
      "Requirement already satisfied: idna<4,>=2.5 in c:\\users\\diego gerwig\\appdata\\local\\programs\\python\\python310\\lib\\site-packages (from requests<3,>=2.24.0->ydata-profiling==4.8.3->-r ../requirements.txt (line 3)) (3.7)\n",
      "Requirement already satisfied: charset-normalizer<4,>=2 in c:\\users\\diego gerwig\\appdata\\local\\programs\\python\\python310\\lib\\site-packages (from requests<3,>=2.24.0->ydata-profiling==4.8.3->-r ../requirements.txt (line 3)) (3.3.2)\n",
      "Requirement already satisfied: patsy>=0.5.6 in c:\\users\\diego gerwig\\appdata\\local\\programs\\python\\python310\\lib\\site-packages (from statsmodels<1,>=0.13.2->ydata-profiling==4.8.3->-r ../requirements.txt (line 3)) (0.5.6)\n",
      "Requirement already satisfied: attrs>=19.3.0 in c:\\users\\diego gerwig\\appdata\\local\\programs\\python\\python310\\lib\\site-packages (from visions[type_image_path]<0.7.7,>=0.7.5->ydata-profiling==4.8.3->-r ../requirements.txt (line 3)) (24.2.0)\n",
      "Requirement already satisfied: networkx>=2.4 in c:\\users\\diego gerwig\\appdata\\local\\programs\\python\\python310\\lib\\site-packages (from visions[type_image_path]<0.7.7,>=0.7.5->ydata-profiling==4.8.3->-r ../requirements.txt (line 3)) (3.3)\n",
      "Requirement already satisfied: parso<0.9.0,>=0.8.3 in c:\\users\\diego gerwig\\appdata\\roaming\\python\\python310\\site-packages (from jedi>=0.16->ipython>=6.1.0->ipywidgets->-r ../requirements.txt (line 7)) (0.8.4)\n",
      "Requirement already satisfied: wcwidth in c:\\users\\diego gerwig\\appdata\\roaming\\python\\python310\\site-packages (from prompt-toolkit<3.1.0,>=3.0.41->ipython>=6.1.0->ipywidgets->-r ../requirements.txt (line 7)) (0.2.13)\n",
      "Requirement already satisfied: executing>=1.2.0 in c:\\users\\diego gerwig\\appdata\\roaming\\python\\python310\\site-packages (from stack-data->ipython>=6.1.0->ipywidgets->-r ../requirements.txt (line 7)) (2.0.1)\n",
      "Requirement already satisfied: pure-eval in c:\\users\\diego gerwig\\appdata\\roaming\\python\\python310\\site-packages (from stack-data->ipython>=6.1.0->ipywidgets->-r ../requirements.txt (line 7)) (0.2.3)\n",
      "Requirement already satisfied: asttokens>=2.1.0 in c:\\users\\diego gerwig\\appdata\\roaming\\python\\python310\\site-packages (from stack-data->ipython>=6.1.0->ipywidgets->-r ../requirements.txt (line 7)) (2.4.1)\n",
      "Note: you may need to restart the kernel to use updated packages.\n"
     ]
    },
    {
     "name": "stderr",
     "output_type": "stream",
     "text": [
      "\n",
      "[notice] A new release of pip is available: 23.0.1 -> 24.2\n",
      "[notice] To update, run: python.exe -m pip install --upgrade pip\n"
     ]
    }
   ],
   "source": [
    "%pip install -r ../requirements.txt"
   ]
  },
  {
   "cell_type": "markdown",
   "metadata": {},
   "source": [
    "#### 💪 Training"
   ]
  },
  {
   "cell_type": "code",
   "execution_count": 2,
   "metadata": {},
   "outputs": [],
   "source": [
    "import pandas as pd\n",
    "from sklearn.model_selection import train_test_split\n",
    "from sklearn.ensemble import RandomForestClassifier\n",
    "from sklearn.metrics import accuracy_score\n",
    "from sklearn.metrics import classification_report\n"
   ]
  },
  {
   "cell_type": "code",
   "execution_count": 3,
   "metadata": {},
   "outputs": [],
   "source": [
    "proc_data_path='../data/processed/road_traffic_accidents_dataset_proc.csv'\n",
    "train_data = pd.read_csv(proc_data_path)\n"
   ]
  },
  {
   "cell_type": "code",
   "execution_count": 4,
   "metadata": {},
   "outputs": [],
   "source": [
    "X = train_data.drop('accident_severity', axis=1)\n",
    "y = train_data['accident_severity']\n",
    "\n",
    "X_train, X_test, y_train, y_test = train_test_split(X, y, test_size=0.2, random_state=42)\n"
   ]
  },
  {
   "cell_type": "code",
   "execution_count": 5,
   "metadata": {},
   "outputs": [],
   "source": [
    "rf = RandomForestClassifier(n_estimators=100, random_state=42)\n",
    "\n",
    "rf.fit(X_train, y_train)\n",
    "\n",
    "y_pred = rf.predict(X_test)\n"
   ]
  },
  {
   "cell_type": "code",
   "execution_count": 6,
   "metadata": {},
   "outputs": [
    {
     "name": "stdout",
     "output_type": "stream",
     "text": [
      "Model accuracy score with 10 decision-trees : 0.8754\n"
     ]
    }
   ],
   "source": [
    "print('Model accuracy score with 10 decision-trees : {0:0.4f}'. format(accuracy_score(y_test, y_pred)))\n"
   ]
  },
  {
   "cell_type": "code",
   "execution_count": 7,
   "metadata": {},
   "outputs": [
    {
     "name": "stdout",
     "output_type": "stream",
     "text": [
      "              precision    recall  f1-score   support\n",
      "\n",
      "           0       0.00      0.00      0.00         8\n",
      "           1       1.00      0.04      0.09        67\n",
      "           2       0.87      1.00      0.93       503\n",
      "\n",
      "    accuracy                           0.88       578\n",
      "   macro avg       0.62      0.35      0.34       578\n",
      "weighted avg       0.88      0.88      0.82       578\n",
      "\n"
     ]
    },
    {
     "name": "stderr",
     "output_type": "stream",
     "text": [
      "c:\\Users\\Diego Gerwig\\AppData\\Local\\Programs\\Python\\Python310\\lib\\site-packages\\sklearn\\metrics\\_classification.py:1531: UndefinedMetricWarning: Precision is ill-defined and being set to 0.0 in labels with no predicted samples. Use `zero_division` parameter to control this behavior.\n",
      "  _warn_prf(average, modifier, f\"{metric.capitalize()} is\", len(result))\n",
      "c:\\Users\\Diego Gerwig\\AppData\\Local\\Programs\\Python\\Python310\\lib\\site-packages\\sklearn\\metrics\\_classification.py:1531: UndefinedMetricWarning: Precision is ill-defined and being set to 0.0 in labels with no predicted samples. Use `zero_division` parameter to control this behavior.\n",
      "  _warn_prf(average, modifier, f\"{metric.capitalize()} is\", len(result))\n",
      "c:\\Users\\Diego Gerwig\\AppData\\Local\\Programs\\Python\\Python310\\lib\\site-packages\\sklearn\\metrics\\_classification.py:1531: UndefinedMetricWarning: Precision is ill-defined and being set to 0.0 in labels with no predicted samples. Use `zero_division` parameter to control this behavior.\n",
      "  _warn_prf(average, modifier, f\"{metric.capitalize()} is\", len(result))\n"
     ]
    }
   ],
   "source": [
    "print(classification_report(y_test, y_pred))\n"
   ]
  },
  {
   "cell_type": "code",
   "execution_count": 8,
   "metadata": {},
   "outputs": [
    {
     "name": "stdout",
     "output_type": "stream",
     "text": [
      "Cross-validation scores:[0.85640138 0.85294118 0.85294118 0.85294118 0.85961872]\n",
      "Average cross-validation score: 0.8549687261998284\n"
     ]
    }
   ],
   "source": [
    "\n",
    "from sklearn.model_selection import cross_val_score\n",
    "\n",
    "scores = cross_val_score(rf, X, y, cv=5, scoring='accuracy')\n",
    "\n",
    "print('Cross-validation scores:{}'.format(scores))\n",
    "\n",
    "print('Average cross-validation score: {}'.format(scores.mean()))\n"
   ]
  },
  {
   "cell_type": "code",
   "execution_count": 9,
   "metadata": {},
   "outputs": [
    {
     "name": "stdout",
     "output_type": "stream",
     "text": [
      "Model accuracy score with 10 decision-trees : 0.8754\n",
      "Classification report : \n",
      "              precision    recall  f1-score   support\n",
      "\n",
      "           0       0.00      0.00      0.00         8\n",
      "           1       1.00      0.04      0.09        67\n",
      "           2       0.87      1.00      0.93       503\n",
      "\n",
      "    accuracy                           0.88       578\n",
      "   macro avg       0.62      0.35      0.34       578\n",
      "weighted avg       0.88      0.88      0.82       578\n",
      "\n",
      "Cross-validation scores :\n"
     ]
    },
    {
     "name": "stderr",
     "output_type": "stream",
     "text": [
      "c:\\Users\\Diego Gerwig\\AppData\\Local\\Programs\\Python\\Python310\\lib\\site-packages\\sklearn\\metrics\\_classification.py:1531: UndefinedMetricWarning: Precision is ill-defined and being set to 0.0 in labels with no predicted samples. Use `zero_division` parameter to control this behavior.\n",
      "  _warn_prf(average, modifier, f\"{metric.capitalize()} is\", len(result))\n",
      "c:\\Users\\Diego Gerwig\\AppData\\Local\\Programs\\Python\\Python310\\lib\\site-packages\\sklearn\\metrics\\_classification.py:1531: UndefinedMetricWarning: Precision is ill-defined and being set to 0.0 in labels with no predicted samples. Use `zero_division` parameter to control this behavior.\n",
      "  _warn_prf(average, modifier, f\"{metric.capitalize()} is\", len(result))\n",
      "c:\\Users\\Diego Gerwig\\AppData\\Local\\Programs\\Python\\Python310\\lib\\site-packages\\sklearn\\metrics\\_classification.py:1531: UndefinedMetricWarning: Precision is ill-defined and being set to 0.0 in labels with no predicted samples. Use `zero_division` parameter to control this behavior.\n",
      "  _warn_prf(average, modifier, f\"{metric.capitalize()} is\", len(result))\n"
     ]
    },
    {
     "name": "stdout",
     "output_type": "stream",
     "text": [
      "[0.85640138 0.85294118 0.85294118 0.85294118 0.85961872]\n",
      "Average cross-validation score : 0.8549687261998284\n"
     ]
    }
   ],
   "source": [
    "import joblib\n",
    "\n",
    "# Save the model as a pickle file\n",
    "filename = '../models/rf_model.pkl'\n",
    "joblib.dump(rf, filename)\n",
    "\n",
    "# Load the model from the file\n",
    "rf_model = joblib.load(filename)\n",
    "\n",
    "# Use the loaded model to make predictions\n",
    "y_pred = rf_model.predict(X_test)\n",
    "\n",
    "print('Model accuracy score with 10 decision-trees : {0:0.4f}'. format(accuracy_score(y_test, y_pred)))\n",
    "\n",
    "print('Classification report : ')\n",
    "\n",
    "print(classification_report(y_test, y_pred))\n",
    "\n",
    "print('Cross-validation scores :')\n",
    "\n",
    "scores = cross_val_score(rf_model, X, y, cv=5, scoring='accuracy')\n",
    "\n",
    "print(scores)\n",
    "\n",
    "print('Average cross-validation score : {}'.format(scores.mean()))\n",
    "\n"
   ]
  },
  {
   "cell_type": "markdown",
   "metadata": {},
   "source": [
    "#### 🎯 Predict"
   ]
  }
 ],
 "metadata": {
  "kernelspec": {
   "display_name": "Python 3",
   "language": "python",
   "name": "python3"
  },
  "language_info": {
   "codemirror_mode": {
    "name": "ipython",
    "version": 3
   },
   "file_extension": ".py",
   "mimetype": "text/x-python",
   "name": "python",
   "nbconvert_exporter": "python",
   "pygments_lexer": "ipython3",
   "version": "3.10.12"
  }
 },
 "nbformat": 4,
 "nbformat_minor": 2
}
